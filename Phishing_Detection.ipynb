{
  "nbformat": 4,
  "nbformat_minor": 0,
  "metadata": {
    "colab": {
      "provenance": [],
      "gpuType": "T4",
      "authorship_tag": "ABX9TyPHRTC8jJfkY8W44SIzw/1Z",
      "include_colab_link": true
    },
    "kernelspec": {
      "name": "python3",
      "display_name": "Python 3"
    },
    "language_info": {
      "name": "python"
    },
    "accelerator": "GPU"
  },
  "cells": [
    {
      "cell_type": "markdown",
      "metadata": {
        "id": "view-in-github",
        "colab_type": "text"
      },
      "source": [
        "<a href=\"https://colab.research.google.com/github/HarryNguyen30/Secure-Comunication-Password-Manager/blob/main/Phishing_Detection.ipynb\" target=\"_parent\"><img src=\"https://colab.research.google.com/assets/colab-badge.svg\" alt=\"Open In Colab\"/></a>"
      ]
    },
    {
      "cell_type": "code",
      "execution_count": 79,
      "metadata": {
        "colab": {
          "base_uri": "https://localhost:8080/"
        },
        "id": "4YlOswibBUMy",
        "outputId": "513d495b-cda6-472e-af29-a8cc1ae2692b"
      },
      "outputs": [
        {
          "output_type": "stream",
          "name": "stdout",
          "text": [
            "Requirement already satisfied: wget in /usr/local/lib/python3.11/dist-packages (3.2)\n"
          ]
        }
      ],
      "source": [
        "#Install and import requirement libraries\n",
        "!pip install wget\n",
        "import wget\n",
        "import zipfile\n",
        "import tarfile\n",
        "import os\n",
        "import glob\n",
        "import pandas as pd\n",
        "import re\n",
        "import numpy as np\n",
        "from tensorflow.keras.preprocessing.text import Tokenizer\n",
        "from keras.preprocessing.sequence import pad_sequences\n",
        "from keras.layers import Embedding, LSTM, Dense\n",
        "from keras.models import Sequential\n",
        "from tensorflow.keras.utils import to_categorical\n"
      ]
    },
    {
      "cell_type": "code",
      "source": [
        "#Download dataset from SpamAssassin Public Corpus (https://spamassassin.apache.org/old/publiccorpus/)\n",
        "\n",
        "#Spam mail\n",
        "wget.download(\"https://spamassassin.apache.org/old/publiccorpus/20030228_spam.tar.bz2\", \"spam.tar.bz2\")\n",
        "# Unzip with tar\n",
        "tar = tarfile.open(\"spam.tar.bz2\", \"r:bz2\")\n",
        "tar.extractall(\"spamassassin\")\n",
        "tar.close()\n",
        "\n",
        "#Ham mail (phishing mail)\n",
        "wget.download(\"https://spamassassin.apache.org/old/publiccorpus/20030228_hard_ham.tar.bz2\", \"ham.tar.bz2\")\n",
        "# Unzip with tar\n",
        "tar = tarfile.open(\"ham.tar.bz2\", \"r:bz2\")\n",
        "tar.extractall(\"spamassassin\")\n",
        "tar.close()\n"
      ],
      "metadata": {
        "id": "sTI7QnxQBkIi"
      },
      "execution_count": 80,
      "outputs": []
    },
    {
      "cell_type": "code",
      "source": [
        "import glob\n",
        "\n",
        "# Load spam and ham file paths\n",
        "spam_files = glob.glob(\"spamassassin/spam/*\")\n",
        "ham_files = glob.glob(\"spamassassin/hard_ham/*\")\n",
        "\n",
        "print(f\"Spam: {len(spam_files)} | Ham: {len(ham_files)}\")"
      ],
      "metadata": {
        "colab": {
          "base_uri": "https://localhost:8080/"
        },
        "id": "rs6pSBnICz9j",
        "outputId": "55cafb0a-becd-4c64-c40c-65b07858fe83"
      },
      "execution_count": 81,
      "outputs": [
        {
          "output_type": "stream",
          "name": "stdout",
          "text": [
            "Spam: 501 | Ham: 251\n"
          ]
        }
      ]
    },
    {
      "cell_type": "code",
      "source": [
        "def load_emails(file_paths):\n",
        "  emails = []\n",
        "  for file_path in file_paths:\n",
        "    try:\n",
        "      with open(file_path, 'r', encoding='latin-1') as f:\n",
        "        content = f.read()\n",
        "        emails.append(content)\n",
        "    except Exception as e:\n",
        "      print(f\"Error loading file {file_path}: {e}\")\n",
        "  return emails\n",
        "\n",
        "spam_emails = load_emails(spam_files)\n",
        "ham_emails = load_emails(ham_files)\n",
        "print(f\"Spam: {len(spam_emails)} | Ham: {len(ham_emails)}\")"
      ],
      "metadata": {
        "colab": {
          "base_uri": "https://localhost:8080/"
        },
        "id": "QvCesEH-DKaT",
        "outputId": "a28da35d-c761-4dda-806e-a50739f9a51e"
      },
      "execution_count": 82,
      "outputs": [
        {
          "output_type": "stream",
          "name": "stdout",
          "text": [
            "Spam: 501 | Ham: 251\n"
          ]
        }
      ]
    },
    {
      "cell_type": "code",
      "source": [
        "import pandas as pd\n",
        "\n",
        "# Create labeled dataset\n",
        "df_spam = pd.DataFrame({'text': spam_emails, 'label': 1})\n",
        "df_ham = pd.DataFrame({'text': ham_emails, 'label': 0})\n",
        "\n",
        "# Combine\n",
        "df = pd.concat([df_spam, df_ham], ignore_index=True)\n",
        "df = df.sample(frac=1, random_state=42).reset_index(drop=True)  # Shuffle\n",
        "\n",
        "df.head()"
      ],
      "metadata": {
        "colab": {
          "base_uri": "https://localhost:8080/",
          "height": 206
        },
        "id": "2vFQhXERDi5i",
        "outputId": "7c524265-9168-40d2-c084-d0695ef039b0"
      },
      "execution_count": 83,
      "outputs": [
        {
          "output_type": "execute_result",
          "data": {
            "text/plain": [
              "                                                text  label\n",
              "0  Return-Path: <bounce-lghtml-2534368@sprocket.l...      0\n",
              "1  From rpm-list-admin@freshrpms.net  Wed Oct  9 ...      0\n",
              "2  From dus@insiq.us  Thu Sep 19 11:15:00 2002\\nR...      1\n",
              "3  Return-Path: ler@lerami.lerctr.org\\nDelivery-D...      1\n",
              "4  From firstever001@44yes.onlineisbest.com  Mon ...      1"
            ],
            "text/html": [
              "\n",
              "  <div id=\"df-dc0065d7-16e5-438c-8243-ef0061187e37\" class=\"colab-df-container\">\n",
              "    <div>\n",
              "<style scoped>\n",
              "    .dataframe tbody tr th:only-of-type {\n",
              "        vertical-align: middle;\n",
              "    }\n",
              "\n",
              "    .dataframe tbody tr th {\n",
              "        vertical-align: top;\n",
              "    }\n",
              "\n",
              "    .dataframe thead th {\n",
              "        text-align: right;\n",
              "    }\n",
              "</style>\n",
              "<table border=\"1\" class=\"dataframe\">\n",
              "  <thead>\n",
              "    <tr style=\"text-align: right;\">\n",
              "      <th></th>\n",
              "      <th>text</th>\n",
              "      <th>label</th>\n",
              "    </tr>\n",
              "  </thead>\n",
              "  <tbody>\n",
              "    <tr>\n",
              "      <th>0</th>\n",
              "      <td>Return-Path: &lt;bounce-lghtml-2534368@sprocket.l...</td>\n",
              "      <td>0</td>\n",
              "    </tr>\n",
              "    <tr>\n",
              "      <th>1</th>\n",
              "      <td>From rpm-list-admin@freshrpms.net  Wed Oct  9 ...</td>\n",
              "      <td>0</td>\n",
              "    </tr>\n",
              "    <tr>\n",
              "      <th>2</th>\n",
              "      <td>From dus@insiq.us  Thu Sep 19 11:15:00 2002\\nR...</td>\n",
              "      <td>1</td>\n",
              "    </tr>\n",
              "    <tr>\n",
              "      <th>3</th>\n",
              "      <td>Return-Path: ler@lerami.lerctr.org\\nDelivery-D...</td>\n",
              "      <td>1</td>\n",
              "    </tr>\n",
              "    <tr>\n",
              "      <th>4</th>\n",
              "      <td>From firstever001@44yes.onlineisbest.com  Mon ...</td>\n",
              "      <td>1</td>\n",
              "    </tr>\n",
              "  </tbody>\n",
              "</table>\n",
              "</div>\n",
              "    <div class=\"colab-df-buttons\">\n",
              "\n",
              "  <div class=\"colab-df-container\">\n",
              "    <button class=\"colab-df-convert\" onclick=\"convertToInteractive('df-dc0065d7-16e5-438c-8243-ef0061187e37')\"\n",
              "            title=\"Convert this dataframe to an interactive table.\"\n",
              "            style=\"display:none;\">\n",
              "\n",
              "  <svg xmlns=\"http://www.w3.org/2000/svg\" height=\"24px\" viewBox=\"0 -960 960 960\">\n",
              "    <path d=\"M120-120v-720h720v720H120Zm60-500h600v-160H180v160Zm220 220h160v-160H400v160Zm0 220h160v-160H400v160ZM180-400h160v-160H180v160Zm440 0h160v-160H620v160ZM180-180h160v-160H180v160Zm440 0h160v-160H620v160Z\"/>\n",
              "  </svg>\n",
              "    </button>\n",
              "\n",
              "  <style>\n",
              "    .colab-df-container {\n",
              "      display:flex;\n",
              "      gap: 12px;\n",
              "    }\n",
              "\n",
              "    .colab-df-convert {\n",
              "      background-color: #E8F0FE;\n",
              "      border: none;\n",
              "      border-radius: 50%;\n",
              "      cursor: pointer;\n",
              "      display: none;\n",
              "      fill: #1967D2;\n",
              "      height: 32px;\n",
              "      padding: 0 0 0 0;\n",
              "      width: 32px;\n",
              "    }\n",
              "\n",
              "    .colab-df-convert:hover {\n",
              "      background-color: #E2EBFA;\n",
              "      box-shadow: 0px 1px 2px rgba(60, 64, 67, 0.3), 0px 1px 3px 1px rgba(60, 64, 67, 0.15);\n",
              "      fill: #174EA6;\n",
              "    }\n",
              "\n",
              "    .colab-df-buttons div {\n",
              "      margin-bottom: 4px;\n",
              "    }\n",
              "\n",
              "    [theme=dark] .colab-df-convert {\n",
              "      background-color: #3B4455;\n",
              "      fill: #D2E3FC;\n",
              "    }\n",
              "\n",
              "    [theme=dark] .colab-df-convert:hover {\n",
              "      background-color: #434B5C;\n",
              "      box-shadow: 0px 1px 3px 1px rgba(0, 0, 0, 0.15);\n",
              "      filter: drop-shadow(0px 1px 2px rgba(0, 0, 0, 0.3));\n",
              "      fill: #FFFFFF;\n",
              "    }\n",
              "  </style>\n",
              "\n",
              "    <script>\n",
              "      const buttonEl =\n",
              "        document.querySelector('#df-dc0065d7-16e5-438c-8243-ef0061187e37 button.colab-df-convert');\n",
              "      buttonEl.style.display =\n",
              "        google.colab.kernel.accessAllowed ? 'block' : 'none';\n",
              "\n",
              "      async function convertToInteractive(key) {\n",
              "        const element = document.querySelector('#df-dc0065d7-16e5-438c-8243-ef0061187e37');\n",
              "        const dataTable =\n",
              "          await google.colab.kernel.invokeFunction('convertToInteractive',\n",
              "                                                    [key], {});\n",
              "        if (!dataTable) return;\n",
              "\n",
              "        const docLinkHtml = 'Like what you see? Visit the ' +\n",
              "          '<a target=\"_blank\" href=https://colab.research.google.com/notebooks/data_table.ipynb>data table notebook</a>'\n",
              "          + ' to learn more about interactive tables.';\n",
              "        element.innerHTML = '';\n",
              "        dataTable['output_type'] = 'display_data';\n",
              "        await google.colab.output.renderOutput(dataTable, element);\n",
              "        const docLink = document.createElement('div');\n",
              "        docLink.innerHTML = docLinkHtml;\n",
              "        element.appendChild(docLink);\n",
              "      }\n",
              "    </script>\n",
              "  </div>\n",
              "\n",
              "\n",
              "<div id=\"df-e52ed099-a0d1-4ceb-9c1f-9afc9ed11aaf\">\n",
              "  <button class=\"colab-df-quickchart\" onclick=\"quickchart('df-e52ed099-a0d1-4ceb-9c1f-9afc9ed11aaf')\"\n",
              "            title=\"Suggest charts\"\n",
              "            style=\"display:none;\">\n",
              "\n",
              "<svg xmlns=\"http://www.w3.org/2000/svg\" height=\"24px\"viewBox=\"0 0 24 24\"\n",
              "     width=\"24px\">\n",
              "    <g>\n",
              "        <path d=\"M19 3H5c-1.1 0-2 .9-2 2v14c0 1.1.9 2 2 2h14c1.1 0 2-.9 2-2V5c0-1.1-.9-2-2-2zM9 17H7v-7h2v7zm4 0h-2V7h2v10zm4 0h-2v-4h2v4z\"/>\n",
              "    </g>\n",
              "</svg>\n",
              "  </button>\n",
              "\n",
              "<style>\n",
              "  .colab-df-quickchart {\n",
              "      --bg-color: #E8F0FE;\n",
              "      --fill-color: #1967D2;\n",
              "      --hover-bg-color: #E2EBFA;\n",
              "      --hover-fill-color: #174EA6;\n",
              "      --disabled-fill-color: #AAA;\n",
              "      --disabled-bg-color: #DDD;\n",
              "  }\n",
              "\n",
              "  [theme=dark] .colab-df-quickchart {\n",
              "      --bg-color: #3B4455;\n",
              "      --fill-color: #D2E3FC;\n",
              "      --hover-bg-color: #434B5C;\n",
              "      --hover-fill-color: #FFFFFF;\n",
              "      --disabled-bg-color: #3B4455;\n",
              "      --disabled-fill-color: #666;\n",
              "  }\n",
              "\n",
              "  .colab-df-quickchart {\n",
              "    background-color: var(--bg-color);\n",
              "    border: none;\n",
              "    border-radius: 50%;\n",
              "    cursor: pointer;\n",
              "    display: none;\n",
              "    fill: var(--fill-color);\n",
              "    height: 32px;\n",
              "    padding: 0;\n",
              "    width: 32px;\n",
              "  }\n",
              "\n",
              "  .colab-df-quickchart:hover {\n",
              "    background-color: var(--hover-bg-color);\n",
              "    box-shadow: 0 1px 2px rgba(60, 64, 67, 0.3), 0 1px 3px 1px rgba(60, 64, 67, 0.15);\n",
              "    fill: var(--button-hover-fill-color);\n",
              "  }\n",
              "\n",
              "  .colab-df-quickchart-complete:disabled,\n",
              "  .colab-df-quickchart-complete:disabled:hover {\n",
              "    background-color: var(--disabled-bg-color);\n",
              "    fill: var(--disabled-fill-color);\n",
              "    box-shadow: none;\n",
              "  }\n",
              "\n",
              "  .colab-df-spinner {\n",
              "    border: 2px solid var(--fill-color);\n",
              "    border-color: transparent;\n",
              "    border-bottom-color: var(--fill-color);\n",
              "    animation:\n",
              "      spin 1s steps(1) infinite;\n",
              "  }\n",
              "\n",
              "  @keyframes spin {\n",
              "    0% {\n",
              "      border-color: transparent;\n",
              "      border-bottom-color: var(--fill-color);\n",
              "      border-left-color: var(--fill-color);\n",
              "    }\n",
              "    20% {\n",
              "      border-color: transparent;\n",
              "      border-left-color: var(--fill-color);\n",
              "      border-top-color: var(--fill-color);\n",
              "    }\n",
              "    30% {\n",
              "      border-color: transparent;\n",
              "      border-left-color: var(--fill-color);\n",
              "      border-top-color: var(--fill-color);\n",
              "      border-right-color: var(--fill-color);\n",
              "    }\n",
              "    40% {\n",
              "      border-color: transparent;\n",
              "      border-right-color: var(--fill-color);\n",
              "      border-top-color: var(--fill-color);\n",
              "    }\n",
              "    60% {\n",
              "      border-color: transparent;\n",
              "      border-right-color: var(--fill-color);\n",
              "    }\n",
              "    80% {\n",
              "      border-color: transparent;\n",
              "      border-right-color: var(--fill-color);\n",
              "      border-bottom-color: var(--fill-color);\n",
              "    }\n",
              "    90% {\n",
              "      border-color: transparent;\n",
              "      border-bottom-color: var(--fill-color);\n",
              "    }\n",
              "  }\n",
              "</style>\n",
              "\n",
              "  <script>\n",
              "    async function quickchart(key) {\n",
              "      const quickchartButtonEl =\n",
              "        document.querySelector('#' + key + ' button');\n",
              "      quickchartButtonEl.disabled = true;  // To prevent multiple clicks.\n",
              "      quickchartButtonEl.classList.add('colab-df-spinner');\n",
              "      try {\n",
              "        const charts = await google.colab.kernel.invokeFunction(\n",
              "            'suggestCharts', [key], {});\n",
              "      } catch (error) {\n",
              "        console.error('Error during call to suggestCharts:', error);\n",
              "      }\n",
              "      quickchartButtonEl.classList.remove('colab-df-spinner');\n",
              "      quickchartButtonEl.classList.add('colab-df-quickchart-complete');\n",
              "    }\n",
              "    (() => {\n",
              "      let quickchartButtonEl =\n",
              "        document.querySelector('#df-e52ed099-a0d1-4ceb-9c1f-9afc9ed11aaf button');\n",
              "      quickchartButtonEl.style.display =\n",
              "        google.colab.kernel.accessAllowed ? 'block' : 'none';\n",
              "    })();\n",
              "  </script>\n",
              "</div>\n",
              "\n",
              "    </div>\n",
              "  </div>\n"
            ],
            "application/vnd.google.colaboratory.intrinsic+json": {
              "type": "dataframe",
              "variable_name": "df",
              "summary": "{\n  \"name\": \"df\",\n  \"rows\": 752,\n  \"fields\": [\n    {\n      \"column\": \"text\",\n      \"properties\": {\n        \"dtype\": \"string\",\n        \"num_unique_values\": 752,\n        \"samples\": [\n          \"From social-admin@linux.ie  Thu Sep 19 17:49:38 2002\\nReturn-Path: <social-admin@linux.ie>\\nDelivered-To: zzzz@localhost.spamassassin.taint.org\\nReceived: from localhost (jalapeno [127.0.0.1])\\n\\tby zzzzason.org (Postfix) with ESMTP id 87C5416F03\\n\\tfor <zzzz@localhost>; Thu, 19 Sep 2002 17:49:37 +0100 (IST)\\nReceived: from jalapeno [127.0.0.1]\\n\\tby localhost with IMAP (fetchmail-5.9.0)\\n\\tfor zzzz@localhost (single-drop); Thu, 19 Sep 2002 17:49:37 +0100 (IST)\\nReceived: from lugh.tuatha.org (root@lugh.tuatha.org [194.125.145.45]) by\\n    dogma.slashnull.org (8.11.6/8.11.6) with ESMTP id g8JGM4C27587 for\\n    <zzzz+ilug-social@jmason.org>; Thu, 19 Sep 2002 17:22:04 +0100\\nReceived: from lugh.tuatha.org (list@localhost [127.0.0.1]) by\\n    lugh.tuatha.org (8.12.3/8.9.3) with ESMTP id g8JGM5Ft007785;\\n    Thu, 19 Sep 2002 17:22:05 +0100\\nReceived: from teleport3.azoogle.com (teleport3.azoogle.com\\n    [66.197.170.6]) by lugh.tuatha.org (8.12.3/8.9.3) with SMTP id\\n    g8JGLnFu007757 for <Social@Linux.Ie>; Thu, 19 Sep 2002 17:21:50 +0100\\nReceived: from azoogle by teleport3.azoogle.com with local (Azoogle 2.1)\\n    id 93-10429-1090346 for Social@Linux.Ie; Thu, 19 Sep 2002 16:21:48 GMT\\nContent-Type: text/plain; charset=\\\"us-ascii\\\"\\nContent-Disposition: inline\\nContent-Transfer-Encoding: 7bit\\nMIME-Version: 1.0\\nFrom: \\\"You$25 GiftCard\\\" <prizemama@reply2.azoogle.com>\\nReply-To: \\\"You$25 GiftCard\\\" <prizemama-93-10429-1090346@reply2.azoogle.com>\\nTo: Social@linux.ie\\nMessage-Id: <93-10429-1090346@teleport3.azoogle.com>\\nX-Info: please report abuse of this service to abuse@azoogle.com\\nSubject: [ILUG-Social] Claim Your $25 Kmart Gift Card\\nSender: social-admin@linux.ie\\nErrors-To: social-admin@linux.ie\\nX-Beenthere: social@linux.ie\\nX-Mailman-Version: 2.0.11\\nPrecedence: bulk\\nList-Help: <mailto:social-request@linux.ie?subject=help>\\nList-Post: <mailto:social@linux.ie>\\nList-Subscribe: <http://www.linux.ie/mailman/listinfo/social>,\\n    <mailto:social-request@linux.ie?subject=subscribe>\\nList-Id: Irish Linux Users' Group social events <social.linux.ie>\\nList-Unsubscribe: <http://www.linux.ie/mailman/listinfo/social>,\\n    <mailto:social-request@linux.ie?subject=unsubscribe>\\nList-Archive: <http://www.linux.ie/pipermail/social/>\\nX-Original-Date: Thu, 19 Sep 2002 16:21:48 GMT\\nDate: Thu, 19 Sep 2002 16:21:48 GMT\\n\\n1) Claim Your $25 Kmart Gift Card\\nhttp://www.adclick.ws/p.cfm?o=320&s=pk00001\\n\\n2) Auto Loans, Fast Approvals for Any Credit!\\nhttp://www.adclick.ws/p.cfm?o=383&s=pk1\\n\\n3) Are You Paying Too Much for Auto Insurance - Find Out?\\nhttp://www.adclick.ws/p.cfm?o=334&s=pk1\\n\\nHave a Wonderful Day,\\nPrizeMama.com\\n\\n\\n\\n\\n\\n\\n\\n\\n\\n------------------\\nYou are receiving this email because you have opted-in to receive\\nemail from publisher: prizemama.  To unsubscribe, click below:\\n\\nhttp://u2.azoogle.com/?z=93-1090346-62lLC4\\n-- \\nIrish Linux Users' Group Social Events: social@linux.ie\\nhttp://www.linux.ie/mailman/listinfo/social for (un)subscription information.\\nList maintainer: listmaster@linux.ie\\n\\n\\n\",\n          \"From 2jc66Qs@seed.net.tw  Mon Sep 16 10:44:15 2002\\nReturn-Path: <2jc66Qs@seed.net.tw>\\nDelivered-To: zzzz@localhost.spamassassin.taint.org\\nReceived: from localhost (jalapeno [127.0.0.1])\\n\\tby zzzzason.org (Postfix) with ESMTP id 0490216F03\\n\\tfor <zzzz@localhost>; Mon, 16 Sep 2002 10:44:14 +0100 (IST)\\nReceived: from jalapeno [127.0.0.1]\\n\\tby localhost with IMAP (fetchmail-5.9.0)\\n\\tfor zzzz@localhost (single-drop); Mon, 16 Sep 2002 10:44:14 +0100 (IST)\\nReceived: from vic (61-230-31-88.HINET-IP.hinet.net [61.230.31.88]) by\\n    dogma.slashnull.org (8.11.6/8.11.6) with SMTP id g8G5f0C14586 for\\n    <zzzz@jmason.org>; Mon, 16 Sep 2002 06:41:02 +0100\\nDate: Mon, 16 Sep 2002 06:41:02 +0100\\nReceived: from mx by ksts.seed.net.tw with SMTP id rUL6sGxdWdZ3kyj7w;\\n    Mon, 14 Sep 2015 13:45:52 +0800\\nMessage-Id: <GSwsC@saturn.seed.net.tw>\\nFrom: hinet@dogma.slashnull.org\\nTo: 0915.9.TXT@dogma.slashnull.org, 0913.10.TXT@dogma.slashnull.org,\\n\\t0913.11.TXT@dogma.slashnull.org, 0913.12.TXT@dogma.slashnull.org,\\n\\t0913.13.TXT@dogma.slashnull.org, 0913.14.TXT@dogma.slashnull.org,\\n\\t0913.2.TXT@dogma.slashnull.org, 0913.3.TXT@dogma.slashnull.org,\\n\\t0913.4.TXT@dogma.slashnull.org, 0913.5.TXT@dogma.slashnull.org,\\n\\t0913.6.TXT@dogma.slashnull.org, 0913.7.TXT@dogma.slashnull.org,\\n\\t0913.8.TXT@dogma.slashnull.org, 0913.9.TXT@dogma.slashnull.org,\\n\\t0915.1.TXT@dogma.slashnull.org, 0915.10.TXT@dogma.slashnull.org,\\n\\t0915.11.TXT@dogma.slashnull.org, 0915.12.TXT@dogma.slashnull.org,\\n\\t0915.13.TXT@dogma.slashnull.org, 0915.14.TXT@dogma.slashnull.org,\\n\\t0915.15.TXT@dogma.slashnull.org, 0915.16.TXT@dogma.slashnull.org,\\n\\t0915.2.TXT@dogma.slashnull.org, 0915.3.TXT@dogma.slashnull.org,\\n\\t0915.4.TXT@dogma.slashnull.org, 0915.5.TXT@dogma.slashnull.org,\\n\\t0915.6.TXT@dogma.slashnull.org, 0915.7.TXT@dogma.slashnull.org,\\n\\t0915.8.TXT@dogma.slashnull.org, 0913.1.TXT@dogma.slashnull.org\\nSubject: =?big5?Q?re:=A7=DA=AA=BE=B9D=A7A=BB=DD=ADn=A7=F3=A6h=BE=F7=B7|,=A4@=B0_=A8=D3=A7a!?=\\nMIME-Version: 1.0\\nX-Mailer: rexfd0sUMJVQYfjVBi\\nX-Priority: 3\\nX-Msmail-Priority: Normal\\nContent-Type: multipart/related; type=\\\"multipart/alternative\\\"; boundary=\\\"----=_NextPart_eZIySJCgLFoIw4lk9MkBwobm5\\\"\\n\\nThis is a multi-part message in MIME format.\\n\\n------=_NextPart_eZIySJCgLFoIw4lk9MkBwobm5\\nContent-Type: multipart/alternative;\\n\\tboundary=\\\"----=_NextPart_eZIySJCgLFoIw4lk9MkBwobm5AA\\\"\\n\\n\\n------=_NextPart_eZIySJCgLFoIw4lk9MkBwobm5AA\\nContent-Type: text/html;\\n\\tcharset=\\\"big5\\\"\\nContent-Transfer-Encoding: base64\\n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\\nPC9odG1sPg==\\n\\n\\n------=_NextPart_eZIySJCgLFoIw4lk9MkBwobm5AA--\\n------=_NextPart_eZIySJCgLFoIw4lk9MkBwobm5--\\n\\n\\n\\n\\n\",\n          \"Return-Path: <Online#3.20341.24-QI_LgZARqA78CdRR.1.b@newsletter.online.com>\\nReceived: from abv-sfo1-acmta1.CNET.COM (abv-sfo1-acmta1.cnet.com [206.16.1.160])\\n\\tby dogma.slashnull.org (8.11.6/8.11.6) with ESMTP id g6I4PsJ26465\\n\\tfor <qqqqqqqqqq-zdnet@spamassassin.taint.org>; Thu, 18 Jul 2002 05:25:54 +0100\\nReceived: from abv-sfo1-ac-agent7 (206.16.0.244) by abv-sfo1-acmta1.CNET.COM (PowerMTA(TM) v1.5); Wed, 17 Jul 2002 21:26:39 -0700 (envelope-from <Online#3.20341.24-QI_LgZARqA78CdRR.1.b@newsletter.online.com>)\\nMessage-ID: <7957247.1026966347345.JavaMail.root@abv-sfo1-ac-agent7>\\nDate: Wed, 17 Jul 2002 21:25:47 -0700 (PDT)\\nFrom: CNET Delivers <Online#3.20341.24-QI_LgZARqA78CdRR.1@newsletter.online.com>\\nTo: qqqqqqqqqq-zdnet@spamassassin.taint.org\\nSubject: Canon USA Reseller News : July\\nMime-Version: 1.0\\nContent-Type: text/html; charset=ISO-8859-1\\nContent-Transfer-Encoding: 7bit\\nX-Mailer: Accucast (http://www.accucast.com)\\nX-Mailer-Version: 2.8.4-2\\n\\n<html>\\n<head>\\n<title>CNET Announcement</title>\\n</head>\\n<body bgcolor=\\\"#eeeeee\\\">\\n<center>\\n<!-- header -->\\n<table width=\\\"624\\\" cellpadding=\\\"0\\\" cellspacing=\\\"0\\\" border=\\\"0\\\">\\n<tr><td><img src=\\\"http://www.cnet.com/i/nl/ann/hd.gif\\\" alt=\\\"CNET Announce\\\" width=\\\"442\\\" height=\\\"60\\\"></td>\\n<td><img src=\\\"http://www.cnet.com/i/nl/ann/rt.gif\\\" width=\\\"184\\\" height=\\\"60\\\"></td></tr>\\n</table>\\n<table width=\\\"624\\\" bgcolor=\\\"#000000\\\" cellpadding=\\\"0\\\" cellspacing=\\\"0\\\" border=\\\"0\\\">\\n<tr><td colspan=\\\"4\\\"><img src=\\\"http://www.cnet.com/b.gif\\\" width=\\\"10\\\" height=\\\"1\\\"></td></tr>\\n<tr><td width=\\\"1\\\"><img src=\\\"http://www.cnet.com/b.gif\\\" width=\\\"1\\\" height=\\\"10\\\"></td>\\n<td width=\\\"9\\\" bgcolor=\\\"#ffcc00\\\"><img src=\\\"http://www.cnet.com/b.gif\\\" width=\\\"9\\\" height=\\\"1\\\"></td>\\n<td width=\\\"624\\\" bgcolor=\\\"#ffcc00\\\"><img src=\\\"http://www.cnet.com/b.gif\\\" width=\\\"1\\\" height=\\\"1\\\"></td>\\n<td width=\\\"1\\\"><img src=\\\"http://www.cnet.com/b.gif\\\" width=\\\"1\\\" height=\\\"1\\\"></td></tr>\\n<tr><td><img src=\\\"http://www.cnet.com/b.gif\\\" width=\\\"1\\\" height=\\\"1\\\"></td>\\n<td bgcolor=\\\"#ffcc00\\\"><img src=\\\"http://www.cnet.com/b.gif\\\" width=\\\"1\\\" height=\\\"1\\\"></td>\\n<td colspan=\\\"2\\\"><img src=\\\"http://www.cnet.com/b.gif\\\" width=\\\"1\\\" height=\\\"1\\\"></td></tr>\\n</table>\\n<!-- /header -->\\n\\n<!-- content -->\\n<table width=\\\"624\\\" bgcolor=\\\"#000000\\\" cellpadding=\\\"0\\\" cellspacing=\\\"0\\\" border=\\\"0\\\">\\n<tr><td width=\\\"1\\\"><img src=\\\"http://www.cnet.com/b.gif\\\" width=\\\"1\\\" height=\\\"1\\\"></td>\\n<td width=\\\"9\\\" bgcolor=\\\"#ffcc00\\\"><img src=\\\"http://www.cnet.com/b.gif\\\" width=\\\"9\\\" height=\\\"1\\\"></td>\\n<td width=\\\"1\\\"><img src=\\\"http://www.cnet.com/b.gif\\\" width=\\\"1\\\" height=\\\"1\\\"></td>\\n<td width=\\\"624\\\" bgcolor=\\\"#ffffff\\\"><img src=\\\"/b.gif\\\" width=\\\"1\\\" height=\\\"8\\\"><br><div align=\\\"center\\\"><img src=\\\"http://home.cnet.com/Ads/Media/Images/ad10-dk.gif\\\" width=\\\"120\\\" height=\\\"10\\\"></div></td>\\n<td width=\\\"1\\\"><img src=\\\"http://www.cnet.com/b.gif\\\" width=\\\"1\\\" height=\\\"1\\\"></td></tr>\\n</table>\\n<table width=\\\"624\\\" bgcolor=\\\"#000000\\\" cellpadding=\\\"0\\\" cellspacing=\\\"0\\\" border=\\\"0\\\">\\n<tr><td width=\\\"1\\\"><img src=\\\"http://www.cnet.com/b.gif\\\" width=\\\"1\\\" height=\\\"1\\\"></td>\\n<td width=\\\"9\\\" bgcolor=\\\"#ffcc00\\\"><img src=\\\"http://www.cnet.com/b.gif\\\" width=\\\"9\\\" height=\\\"1\\\"></td>\\n<td width=\\\"1\\\"><img src=\\\"http://www.cnet.com/b.gif\\\" width=\\\"1\\\" height=\\\"1\\\"></td>\\n<td width=\\\"624\\\" bgcolor=\\\"#ffffff\\\"><font face=\\\"verdana, geneva\\\" size=\\\"-2\\\" color=\\\"#333333\\\">&nbsp;<sup>&nbsp;</sup>\\n\\n<!-- date -->\\nJuly 18, 2002\\n<!-- /date -->\\n</font><br>\\n\\n<!-- ### promo content ### -->\\n\\n\\n<html>\\n<head>\\n<title>Canon USA Reseller News : July</title>\\n<meta http-equiv=\\\"Content-Type\\\" content=\\\"text/html; charset=iso-8859-1\\\">\\n</head>\\n\\n<body bgcolor=\\\"#ffffff\\\" text=\\\"#000000\\\" topmargin=0 leftmargin=0 marginheight=\\\"0\\\" link=\\\"#000099\\\" vlink=\\\"#000099\\\">\\n<table width=\\\"598\\\" border=\\\"0\\\" cellspacing=\\\"0\\\" cellpadding=\\\"0\\\" align=\\\"center\\\">\\n  <tr> \\n    <td bgcolor=\\\"#ffffff\\\"><img src=\\\"http://www.captureleads.com/canon/leadblasts/nlimages/monthly_head_598.gif\\\" width=\\\"598\\\" height=\\\"70\\\" alt=\\\"Canon USA Reseller News\\\"></td>\\n  </tr>\\n<tr bgcolor=\\\"#ffffff\\\" align=\\\"right\\\"> \\n    <td bgcolor=\\\"#ffffff\\\"><font face=\\\"Verdana, Arial, Helvetica, sans-serif\\\" size=\\\"2\\\"><i>July 2002 / Volume 2 No. 5</i></font></td>\\n  </tr>\\n</table>\\n<br>\\n<table width=\\\"598\\\" border=\\\"0\\\" cellspacing=\\\"0\\\" cellpadding=\\\"0\\\" align=\\\"center\\\" >\\n  <tr> \\n    <td width=\\\"10\\\" valign=\\\"top\\\" bgcolor=\\\"#d4dfff\\\">&nbsp;</td>\\n    <td width=\\\"180\\\" valign=\\\"top\\\" bgcolor=\\\"#d4dfff\\\"><font face=\\\"Verdana, Arial, Helvetica, sans-serif\\\" size=\\\"3\\\"><br>\\n      </font> <font face=\\\"Verdana, Arial, Helvetica, sans-serif\\\" size=\\\"3\\\"><font color=\\\"#ff0000\\\"><b><font size=\\\"2\\\"><br>\\n      The Canon USA Reseller News&nbsp;</font></b></font><font size=\\\"2\\\">provides resellers with monthly announcements&nbsp;on Canon products that are purchased through national distributors.</font></font><font face=\\\"Verdana, Arial, Helvetica, sans-serif\\\" size=\\\"3\\\"><br>\\n      <br>\\n      <br>\\n      </font> <font face=\\\"Verdana, Arial, Helvetica, sans-serif\\\" size=\\\"3\\\"> <br>\\n      <br>\\n      </font></td>\\n    <td width=\\\"10\\\" bgcolor=\\\"#d4dfff\\\" valign=\\\"top\\\">&nbsp;</td>\\n    <td valign=\\\"top\\\" width=\\\"10\\\" bgcolor=\\\"#e2e2e2\\\">&nbsp;</td>\\n    <td valign=\\\"top\\\" bgcolor=\\\"#e2e2e2\\\"><font face=\\\"Verdana, Arial, Helvetica, sans-serif\\\" size=\\\"3\\\"><br>\\n      <font size=\\\"2\\\">Scan the following topics for <b><font color=\\\"#ff0000\\\">\\\"News You Can Use.\\\"</font></b></font></font><font size=\\\"2\\\"><font face=\\\"Verdana, Arial, Helvetica, sans-serif\\\"> \\n      </font></font> \\n      <ul>\\n        <font face=\\\"Verdana, Arial, Helvetica, sans-serif\\\" size=\\\"3\\\"> \\n        <li type=\\\"square\\\"><font size=\\\"2\\\"><A href=\\\"#here\\\">They're Here!</A><br></font> \\n        <li type=\\\"square\\\"><font size=\\\"2\\\"><A href=\\\"#check\\\">Check Out Our Q3 Promotions</A><br></font>\\n\\t\\t<li type=\\\"square\\\"><font size=\\\"2\\\"><A href=\\\"#guess\\\">Guess What's Coming to Distribution</A><br></font> \\n        <li type=\\\"square\\\"><font size=\\\"2\\\"><A href=\\\"#training\\\">Web-based Training Addition / We Have a Winner</A><br></font>\\n        <li type=\\\"square\\\"><font size=\\\"2\\\"><A href=\\\"#reseller\\\">Reseller Account Executive</A><br></font></li></font>\\n\\t\\t</ul>\\n    </td>\\n    <td width=\\\"10\\\" valign=\\\"top\\\" bgcolor=\\\"#e2e2e2\\\">&nbsp;</td>\\n  </tr>\\n</table>\\n<br>\\n<table width=\\\"598\\\" border=\\\"0\\\" cellspacing=\\\"0\\\" cellpadding=\\\"5\\\" align=\\\"center\\\" bgcolor=\\\"#000000\\\">\\n  <tr bgcolor=\\\"#e2e2e2\\\"> \\n    <td width=\\\"10\\\">&nbsp;</td>\\n    <td bgcolor=\\\"#e2e2e2\\\"><font face=\\\"Verdana, Arial, Helvetica, sans-serif\\\" size=\\\"3\\\"><b><a name=\\\"here\\\">They're Here!</a></b></font></td>\\n    <td width=\\\"10\\\">&nbsp;</td>\\n  </tr>\\n  <tr> \\n    <td width=\\\"10\\\" bgcolor=\\\"#ffffff\\\">&nbsp;</td>\\n    <td bgcolor=\\\"#ffffff\\\"><font face=\\\"Verdana, Arial, Helvetica, sans-serif\\\" size=\\\"3\\\">Canon's N1000 and N2000 innovative Office Color Printers are here!  Orders are now being taken for these ... Super High Speed ... Super High Quality ... Large Volume printers!  With super low operating costs and excellent durability, these printers provide the solution to your customers' business color needs.<br>\\n<br>Providing our resellers with the tools necessary to be successful in the marketplace is important to us.  In an effort to help you jump-start your N1000 printer sales, we are making available, on a first come first served basis, HALF-PRICE N1000 DEMO units.  For your convenience, these units can be purchased at  Ingram Micro, Tech Data or D&H.  There is a limit of one half-price unit per reseller - and supplies are limited - so order today!<br>\\n<br>To help you generate interest with your customers for the N1000/N2000, we have created a video banner ad that can be run on your website.  Log on to our  reseller website:  <a href=\\\"http://clickthru.online.com/Click?q=39-7QgMIjI6kxw3FhUCGLs-y39w-_lR\\\">http://www.canonresellers.com</a> to view the N1000/N2000 video banner ad.  You'll find the ad running on the Home Page.  To order a CD of this video banner ad for your use, contact your Canon Account Executive.\\n</font></td>\\n    <td width=\\\"10\\\" bgcolor=\\\"#ffffff\\\">&nbsp;</td>\\n  </tr>\\n</table>\\n<br>\\n<table width=\\\"598\\\" border=\\\"0\\\" cellspacing=\\\"0\\\" cellpadding=\\\"5\\\" align=\\\"center\\\" bgcolor=\\\"#000000\\\">\\n  <tr bgcolor=\\\"#e2e2e2\\\"> \\n    <td width=\\\"10\\\">&nbsp;</td>\\n    <td bgcolor=\\\"#e2e2e2\\\"><font face=\\\"Verdana, Arial, Helvetica, sans-serif\\\" size=\\\"3\\\"><b><a name=\\\"check\\\">Check Out Our Q3 Promotions</a></b></font></td>\\n    <td width=\\\"10\\\">&nbsp;</td>\\n  </tr>\\n</table>\\n<br>\\n<table width=\\\"598\\\" border=\\\"1\\\" cellspacing=\\\"0\\\" cellpadding=\\\"0\\\" align=\\\"center\\\">\\n  <tr bgcolor=\\\"#d4dfff\\\"> \\n    <td width=\\\"150\\\" bgcolor=\\\"#d4dfff\\\" align=\\\"left\\\">\\n      <div align=\\\"left\\\"><b><font face=\\\"Verdana, Arial, Helvetica, sans-serif\\\" size=\\\"2\\\">Product</font></b></div>\\n    </td>\\n    <td align=\\\"middle\\\" width=\\\"150\\\"><b><font face=\\\"Verdana, Arial, Helvetica, sans-serif\\\" size=\\\"2\\\">Instant Rebate*</font></b></td>\\n    <td align=\\\"middle\\\" width=\\\"127\\\"><b><font face=\\\"Verdana, Arial, Helvetica, sans-serif\\\" size=\\\"2\\\">Timeframe</font></b></td>\\n  </tr>\\n  <tr> \\n    <td width=\\\"150\\\"><font face=\\\"Verdana, Arial, Helvetica, sans-serif\\\" size=\\\"2\\\">imageCLASS 1100</font></td>\\n    <td align=\\\"middle\\\" width=\\\"150\\\"><font face=\\\"Verdana, Arial, Helvetica, sans-serif\\\" size=\\\"2\\\">$100</font></td>\\n    <td align=\\\"middle\\\" width=\\\"127\\\"><font face=\\\"Verdana, Arial, Helvetica, sans-serif\\\" size=\\\"2\\\">Through September 30, 2002</font></td>\\n  </tr>\\n</table>\\n<br>\\n<table width=\\\"598\\\" border=\\\"0\\\" cellspacing=\\\"0\\\" cellpadding=\\\"5\\\" align=\\\"center\\\" bgcolor=\\\"#000000\\\">\\n  <tr> \\n    <td width=\\\"10\\\" bgcolor=\\\"#ffffff\\\">&nbsp;</td>\\n    <td bgcolor=\\\"#ffffff\\\"><font face=\\\"Verdana, Arial, Helvetica, sans-serif\\\" size=\\\"3\\\">*All rebates will be reflected on the distributor invoice price <b><i>at the time of purchase</i></b>.<br>\\n      <br><b>Quarterly Performance/Growth Bonus</b><br>\\n      <br>It's a new quarter and a fresh opportunity to become a Canon Premier Partner.  Our quarterly growth goals are within reach!  Your purchases of all eligible hardware* between July 1, 2002 and September 30, 2002 work toward your Premier Partner status.  Following are the rebate categories:\\n      <br>\\n\\t  <br>\\n      $50,000-$99,000 = 4% rebate<br>\\n      $100,000+ = 6% rebate<br>\\n      <br>\\n      Claim forms for submitting your claims are available from your Canon reseller Account Executive and at <a href=\\\"http://clickthru.online.com/Click?q=4e-0Y95InZAScfHiaSIKlsTn8N_Jj9R\\\" target=\\\"_blank\\\">www.canonresellers.com</a>.<br>\\n      <br>\\n      <font size=\\\"2\\\">*Only hardware is eligible - DR-3060, DR-3080C, DR-5020, DR-5080C, DR-4580U, DR-4080U, N1000/N2000 Office Color Printers, imageCLASS 2200 and imageCLASS 1100.  CarePAKS, consumables, maintenance kits and media are not eligible.</font><br>\\n      <br>\\n      Click on  <a href=\\\"http://clickthru.online.com/Click?q=64-UBOhIuLfNZhIMQRNGWF8w6YrPhsR\\\" target=\\\"_blank\\\">www.canonresellers.com</a>, to find your tools for success! \\n      <br>\\n      </font></td>\\n    <td width=\\\"10\\\" bgcolor=\\\"#ffffff\\\">&nbsp;</td>\\n  </tr>\\n</table>\\n<br>\\n<br>\\n<table width=\\\"598\\\" border=\\\"0\\\" cellspacing=\\\"0\\\" cellpadding=\\\"5\\\" align=\\\"center\\\" bgcolor=\\\"#000000\\\">\\n  <tr bgcolor=\\\"#e2e2e2\\\"> \\n    <td width=\\\"10\\\">&nbsp;</td>\\n    <td bgcolor=\\\"#e2e2e2\\\"><font face=\\\"Verdana, Arial, Helvetica, sans-serif\\\" size=\\\"3\\\"><b><a name=\\\"guess\\\">Guess What's Coming to Distribution</a></b></font></td>\\n    <td width=\\\"10\\\">&nbsp;</td>\\n  </tr>\\n  <tr> \\n    <td width=\\\"10\\\" bgcolor=\\\"#ffffff\\\">&nbsp;</td>\\n    <td bgcolor=\\\"#ffffff\\\"><font face=\\\"Verdana, Arial, Helvetica, sans-serif\\\" size=\\\"3\\\">\\nHere's a clue:  Canon is known 'far and wide' for its products.  Coming soon&#151;at a distributor near you - we'll show you just how 'wide' our products can be.  Watch for another clue in our August newsletter!</font></td>\\n    <td width=\\\"10\\\" bgcolor=\\\"#ffffff\\\">&nbsp;</td>\\n  </tr>\\n</table>\\n<br>\\n<table width=\\\"598\\\" border=\\\"0\\\" cellspacing=\\\"0\\\" cellpadding=\\\"5\\\" align=\\\"center\\\">\\n  <tr bgcolor=\\\"#e2e2e2\\\"> \\n    <td width=\\\"10\\\">&nbsp;</td>\\n    <td colspan=\\\"2\\\"><font face=\\\"Verdana, Arial, Helvetica, sans-serif\\\" size=\\\"3\\\"><b><a name=\\\"training\\\">Web Based Training Addition / We Have a Winner</a></b></font></td>\\n    <td width=\\\"10\\\">&nbsp;</td>\\n  </tr>\\n  <tr>\\n    <td width=\\\"10\\\">&nbsp;</td>\\n    <td valign=\\\"top\\\"><font face=\\\"Verdana, Arial, Helvetica, sans-serif\\\" size=\\\"3\\\">As promised, we're about to launch another web training course.  Final touches are being made on Canon's <b>N1000/N2000</b> web training course.  This creative and informative course - covering topics that include  Features, Installation, Connectivity and Markets - is not to be missed.  Details to follow.<br>\\n      <br>\\n      We have a winner!  Congratulations to everyone who completed the imageCLASS 1100 web training before June 30!  The winning name was randomly selected from a 'hat' and we're pleased to announce the winner of the Canon PowerShot A20 digital camera works at one of our valued resellers in North Carolina!</font></td>\\n    <td align=\\\"right\\\" valign=\\\"middle\\\"><a href=\\\"http://clickthru.online.com/Click?q=79-rsQHIEBf9Lq-NyhmFz_e0CvgpaFR\\\"><img src=\\\"http://www.captureleads.com/canon/leadblasts/nlimages/simon_anim.gif\\\" width=\\\"173\\\" height=\\\"173\\\" border=\\\"0\\\"></a></td>\\n    <td width=\\\"10\\\">&nbsp;</td>\\n  </tr>\\n  <tr> \\n    <td width=\\\"10\\\">&nbsp;</td>\\n    <td valign=\\\"top\\\" colspan=\\\"2\\\"><font face=\\\"Verdana, Arial, Helvetica, sans-serif\\\" size=\\\"3\\\">Although the contest is over... the learning should not stop.  If you have not yet completed this informative imageCLASS 1100 training course, log on to <a href=\\\"http://clickthru.online.com/Click?q=8e-Ve-cQCn7KTQcIiTPDuYWD0V_Wy4R\\\" target=\\\"_blank\\\">http://www.canonresellers.com</a> right click on Simon and go to the training site. <br>\\n        <br>\\n      </font></td>\\n    <td width=\\\"10\\\">&nbsp;</td>\\n  </tr>\\n</table>\\n<br>\\n\\n<table width=\\\"598\\\" border=\\\"0\\\" cellspacing=\\\"0\\\" cellpadding=\\\"5\\\" align=\\\"center\\\">\\n  <tr> \\n    <td width=\\\"10\\\" bgcolor=\\\"#e2e2e2\\\">&nbsp;</td>\\n    <td colspan=\\\"2\\\" bgcolor=\\\"#e2e2e2\\\"><b><font face=\\\"Verdana, Arial, Helvetica, sans-serif\\\"><a name=\\\"reseller\\\">Reseller Account Executive&#151;Contact Changes</a></font></b></td>\\n    <td width=\\\"10\\\" bgcolor=\\\"#e2e2e2\\\">&nbsp;</td>\\n  </tr>\\n  <tr> \\n    <td width=\\\"10\\\">&nbsp;</td>\\n    <td colspan=\\\"2\\\"><font face=\\\"Verdana, Arial, Helvetica, sans-serif\\\">Canon has a dedicated team of Account Executives whose mission is to work with you to achieve our mutual business goals.<br>\\n      <br>\\n      Check the list below and note the name and e-mail address of the Account Executive assigned to your state.  Be sure to contact your Account Executive for support with the following:\\n</font></td>\\n    <td width=\\\"10\\\">&nbsp;</td>\\n  </tr>\\n  <tr> \\n    <td width=\\\"10\\\">&nbsp;</td>\\n    <td valign=\\\"top\\\"> \\n      <ul>\\n        <font face=\\\"Verdana, Arial, Helvetica, sans-serif\\\" size=\\\"3\\\"> \\n        <li type=\\\"square\\\">N1000/N2000 Video Banner Ad<br>\\n        <li type=\\\"square\\\">Events (Open Houses/Shows)<br>\\n\\t\\t<li type=\\\"square\\\">Sales Support Collateral<br>\\n\\t\\t<li type=\\\"square\\\">Discounted Demo Units<br>\\n</li></font> \\n      </ul>\\n    </td>\\n    <td valign=\\\"top\\\"> \\n      <ul><font face=\\\"Verdana, Arial, Helvetica, sans-serif\\\" size=\\\"3\\\">\\n        <li type=\\\"square\\\">End User Sales Calls<br>\\n\\t\\t<li type=\\\"square\\\">Demand Generation<br>\\n\\t\\t<li type=\\\"square\\\">Product Training<br>\\n\\t\\t<li type=\\\"square\\\">Bids<br>\\n        </LI></font>\\n      </ul>\\n    </td>\\n    <td width=\\\"10\\\">&nbsp;</td>\\n  </tr>\\n  <tr> \\n    <td width=\\\"10\\\">&nbsp;</td>\\n    <td colspan=\\\"2\\\"><font face=\\\"Verdana, Arial, Helvetica, sans-serif\\\" size=\\\"3\\\">Account \\n\\t\\tExecutives are listed below with the states that they cover.<br>\\n      </font></td>\\n    <td width=\\\"10\\\">&nbsp;</td>\\n  </tr>\\n</table>\\n<br>\\n<table width=\\\"598\\\" border=\\\"0\\\" cellspacing=\\\"0\\\" cellpadding=\\\"0\\\" align=\\\"center\\\">\\n  <tr> \\n    <td width=\\\"10\\\">&nbsp;</td>\\n    <td valign=\\\"top\\\" bgcolor=\\\"#d4dfff\\\"><b><font size=\\\"2\\\" face=\\\"Verdana, Arial, Helvetica, sans-serif\\\">Northeast</font></b></td>\\n    <td valign=\\\"top\\\" bgcolor=\\\"#d4dfff\\\"><b><font size=\\\"2\\\" face=\\\"Verdana, Arial, Helvetica, sans-serif\\\">John \\n      Brogan </font></b></td>\\n    <td valign=\\\"top\\\" colspan=\\\"2\\\" bgcolor=\\\"#d4dfff\\\"><b><font size=\\\"2\\\" face=\\\"Verdana, Arial, Helvetica, sans-serif\\\"><A href=\\\"mailto:jbrogan@cusa.canon.com\\\" >(jbrogan@cusa.canon.com)</A></font></b></td>\\n    <td width=\\\"10\\\">&nbsp;</td>\\n  </tr>\\n  <tr> \\n    <td width=\\\"10\\\">&nbsp;</td>\\n    <td valign=\\\"top\\\"><font size=\\\"2\\\" face=\\\"Verdana, Arial, Helvetica, sans-serif\\\">Connecticut</font></td>\\n    <td valign=\\\"top\\\"><font size=\\\"2\\\" face=\\\"Verdana, Arial, Helvetica, sans-serif\\\">Maine </font></td>\\n    <td valign=\\\"top\\\"><font size=\\\"2\\\" face=\\\"Verdana, Arial, Helvetica, sans-serif\\\">New Hampshire</font></td>\\n    <td valign=\\\"top\\\"><font size=\\\"2\\\" face=\\\"Verdana, Arial, Helvetica, sans-serif\\\">Rhode Island</font></td>\\n    <td width=\\\"10\\\">&nbsp;</td>\\n  </tr>\\n  <tr> \\n    <td width=\\\"10\\\">&nbsp;</td>\\n    <td valign=\\\"top\\\"><font size=\\\"2\\\" face=\\\"Verdana, Arial, Helvetica, sans-serif\\\">Massachusetts</font></td>\\n    <td valign=\\\"top\\\"><font size=\\\"2\\\" face=\\\"Verdana, Arial, Helvetica, sans-serif\\\">New York</font></td>\\n    <td valign=\\\"top\\\"><font size=\\\"2\\\" face=\\\"Verdana, Arial, Helvetica, sans-serif\\\">New Jersey</font></td>\\n    <td valign=\\\"top\\\"><font size=\\\"2\\\" face=\\\"Verdana, Arial, Helvetica, sans-serif\\\">Vermont</font></td>\\n    <td width=\\\"10\\\">&nbsp;</td>\\n  </tr>\\n  <tr> \\n    <td width=\\\"10\\\">&nbsp;</td>\\n    <td valign=\\\"top\\\"><font size=\\\"2\\\" face=\\\"Verdana, Arial, Helvetica, sans-serif\\\"></font></td>\\n    <td valign=\\\"top\\\"><font size=\\\"2\\\" face=\\\"Verdana, Arial, Helvetica, sans-serif\\\"></font></td>\\n    <td valign=\\\"top\\\"><font size=\\\"2\\\" face=\\\"Verdana, Arial, Helvetica, sans-serif\\\"></font></td>\\n    <td valign=\\\"top\\\"><font size=\\\"2\\\" face=\\\"Verdana, Arial, Helvetica, sans-serif\\\"></font></td>\\n    <td width=\\\"10\\\">&nbsp;</td>\\n  </tr>\\n  <tr> \\n    <td width=\\\"10\\\">&nbsp;</td>\\n    <td valign=\\\"top\\\" bgcolor=\\\"#d4dfff\\\"><b><font size=\\\"2\\\" face=\\\"Verdana, Arial, Helvetica, sans-serif\\\">Mid Atlantic</font></b></td>\\n    <td valign=\\\"top\\\" bgcolor=\\\"#d4dfff\\\"><b><font size=\\\"2\\\" face=\\\"Verdana, Arial, Helvetica, sans-serif\\\">Greg Harzenski</font></b></td>\\n    <td valign=\\\"top\\\" colspan=\\\"2\\\" bgcolor=\\\"#d4dfff\\\"><b><font size=\\\"2\\\" face=\\\"Verdana, Arial, Helvetica, sans-serif\\\"><A href=\\\"mailto:gharzenski@cusa.canon.com\\\" >(gharzenski@cusa.canon.com)</A></font></b></td>\\n    <td width=\\\"10\\\">&nbsp;</td>\\n  </tr>\\n  <tr>\\n    <td width=\\\"10\\\">&nbsp;</td>\\n    <td valign=\\\"top\\\"><font size=\\\"2\\\" face=\\\"Verdana, Arial, Helvetica, sans-serif\\\">Delaware</font></td>\\n    <td valign=\\\"top\\\"><font size=\\\"2\\\" face=\\\"Verdana, Arial, Helvetica, sans-serif\\\">Maryland</font></td>\\n    <td valign=\\\"top\\\"><font size=\\\"2\\\" face=\\\"Verdana, Arial, Helvetica, sans-serif\\\">Washington D.C.</font></td>\\n    <td valign=\\\"top\\\">&nbsp;</td>\\n    <td width=\\\"10\\\">&nbsp;</td>\\n  </tr>\\n  <tr> \\n    <td width=\\\"10\\\">&nbsp;</td>\\n    <td valign=\\\"top\\\"><font size=\\\"2\\\" face=\\\"Verdana, Arial, Helvetica, sans-serif\\\"></font></td>\\n    <td valign=\\\"top\\\"><font size=\\\"2\\\" face=\\\"Verdana, Arial, Helvetica, sans-serif\\\"></font></td>\\n    <td valign=\\\"top\\\"><font size=\\\"2\\\" face=\\\"Verdana, Arial, Helvetica, sans-serif\\\"></font></td>\\n    <td valign=\\\"top\\\"><font size=\\\"2\\\" face=\\\"Verdana, Arial, Helvetica, sans-serif\\\"></font></td>\\n    <td width=\\\"10\\\">&nbsp;</td>\\n  </tr>\\n  <tr> \\n    <td width=\\\"10\\\">&nbsp;</td>\\n    <td valign=\\\"top\\\" bgcolor=\\\"#d4dfff\\\"><b><font size=\\\"2\\\" face=\\\"Verdana, Arial, Helvetica, sans-serif\\\">Midwest</font></b></td>\\n    <td valign=\\\"top\\\" bgcolor=\\\"#d4dfff\\\"><b><font size=\\\"2\\\" face=\\\"Verdana, Arial, Helvetica, sans-serif\\\">Jennifer Mickeletto </font></b></td>\\n    <td valign=\\\"top\\\" colspan=\\\"2\\\" bgcolor=\\\"#d4dfff\\\"><b><font size=\\\"2\\\" face=\\\"Verdana, Arial, Helvetica, sans-serif\\\"><A href=\\\"mailto:zzzickeletto@cusa.canon.com\\\" >(zzzickeletto@cusa.canon.com)</A></font></b></td>\\n    <td width=\\\"10\\\">&nbsp;</td>\\n  </tr>\\n  <tr> \\n    <td width=\\\"10\\\">&nbsp;</td>\\n    <td valign=\\\"top\\\"><font size=\\\"2\\\" face=\\\"Verdana, Arial, Helvetica, sans-serif\\\">Indiana</font></td>\\n    <td valign=\\\"top\\\"><font size=\\\"2\\\" face=\\\"Verdana, Arial, Helvetica, sans-serif\\\">Kansas</font></td>\\n    <td valign=\\\"top\\\"><font size=\\\"2\\\" face=\\\"Verdana, Arial, Helvetica, sans-serif\\\">Missouri</font></td>\\n    <td valign=\\\"top\\\"><font size=\\\"2\\\" face=\\\"Verdana, Arial, Helvetica, sans-serif\\\">Ohio</font></td>\\n    <td width=\\\"10\\\">&nbsp;</td>\\n  </tr>\\n  <tr>\\n    <td width=\\\"10\\\">&nbsp;</td>\\n    <td valign=\\\"top\\\"><font size=\\\"2\\\" face=\\\"Verdana, Arial, Helvetica, sans-serif\\\">Colorado</font></td>\\n    <td valign=\\\"top\\\"><font size=\\\"2\\\" face=\\\"Verdana, Arial, Helvetica, sans-serif\\\">Kentucky</font></td>\\n    <td valign=\\\"top\\\"><font size=\\\"2\\\" face=\\\"Verdana, Arial, Helvetica, sans-serif\\\">Nebraska</font></td>\\n    <td valign=\\\"top\\\"><font size=\\\"2\\\" face=\\\"Verdana, Arial, Helvetica, sans-serif\\\">Tennessee</font></td>\\n    <td width=\\\"10\\\">&nbsp;</td>\\n  </tr>\\n  <tr> \\n    <td width=\\\"10\\\">&nbsp;</td>\\n    <td valign=\\\"top\\\"><font size=\\\"2\\\" face=\\\"Verdana, Arial, Helvetica, sans-serif\\\"></font></td>\\n    <td valign=\\\"top\\\"><font size=\\\"2\\\" face=\\\"Verdana, Arial, Helvetica, sans-serif\\\"></font></td>\\n    <td valign=\\\"top\\\"><font size=\\\"2\\\" face=\\\"Verdana, Arial, Helvetica, sans-serif\\\"></font></td>\\n    <td valign=\\\"top\\\"><font size=\\\"2\\\" face=\\\"Verdana, Arial, Helvetica, sans-serif\\\"></font></td>\\n    <td width=\\\"10\\\">&nbsp;</td>\\n  </tr>\\n  <tr> \\n    <td width=\\\"10\\\">&nbsp;</td>\\n    <td valign=\\\"top\\\" bgcolor=\\\"#d4dfff\\\"><b><font size=\\\"2\\\" face=\\\"Verdana, Arial, Helvetica, sans-serif\\\">Mid North</font></b></td>\\n    <td valign=\\\"top\\\" bgcolor=\\\"#d4dfff\\\"><b><font size=\\\"2\\\" face=\\\"Verdana, Arial, Helvetica, sans-serif\\\">Chad Crump</font></b></td>\\n    <td valign=\\\"top\\\" colspan=\\\"2\\\" bgcolor=\\\"#d4dfff\\\"><b><font size=\\\"2\\\" face=\\\"Verdana, Arial, Helvetica, sans-serif\\\"><A href=\\\"mailto:ccrump@cusa.canon.com\\\" >(ccrump@cusa.canon.com)</A></font></b></td>\\n    <td width=\\\"10\\\">&nbsp;</td>\\n  </tr>\\n  <tr> \\n    <td width=\\\"10\\\">&nbsp;</td>\\n    <td valign=\\\"top\\\"><font size=\\\"2\\\" face=\\\"Verdana, Arial, Helvetica, sans-serif\\\">Alaska</font></td>\\n    <td valign=\\\"top\\\"><font size=\\\"2\\\" face=\\\"Verdana, Arial, Helvetica, sans-serif\\\">Illinois</font></td>\\n    <td valign=\\\"top\\\"><font size=\\\"2\\\" face=\\\"Verdana, Arial, Helvetica, sans-serif\\\">Minnesota</font></td>\\n    <td valign=\\\"top\\\"><font size=\\\"2\\\" face=\\\"Verdana, Arial, Helvetica, sans-serif\\\">Washington</font></td>\\n    <td width=\\\"10\\\">&nbsp;</td>\\n  </tr>\\n  <tr> \\n    <td width=\\\"10\\\">&nbsp;</td>\\n    <td valign=\\\"top\\\"><font size=\\\"2\\\" face=\\\"Verdana, Arial, Helvetica, sans-serif\\\">Idaho</font></td>\\n    <td valign=\\\"top\\\"><font size=\\\"2\\\" face=\\\"Verdana, Arial, Helvetica, sans-serif\\\">Montana</font></td>\\n    <td valign=\\\"top\\\"><font size=\\\"2\\\" face=\\\"Verdana, Arial, Helvetica, sans-serif\\\">North Dakota</font></td>\\n    <td valign=\\\"top\\\"><font size=\\\"2\\\" face=\\\"Verdana, Arial, Helvetica, sans-serif\\\">Wisconsin</font></td>\\n    <td width=\\\"10\\\">&nbsp;</td>\\n  </tr>\\n  <tr> \\n    <td width=\\\"10\\\">&nbsp;</td>\\n    <td valign=\\\"top\\\"><font size=\\\"2\\\" face=\\\"Verdana, Arial, Helvetica, sans-serif\\\">Iowa</font></td>\\n    <td valign=\\\"top\\\"><font size=\\\"2\\\" face=\\\"Verdana, Arial, Helvetica, sans-serif\\\">Michigan</font></td>\\n    <td valign=\\\"top\\\"><font size=\\\"2\\\" face=\\\"Verdana, Arial, Helvetica, sans-serif\\\">South Dakota</font></td>\\n    <td valign=\\\"top\\\"><font size=\\\"2\\\" face=\\\"Verdana, Arial, Helvetica, sans-serif\\\">Wyoming</font></td>\\n    <td width=\\\"10\\\">&nbsp;</td>\\n  </tr>\\n  <tr> \\n    <td width=\\\"10\\\">&nbsp;</td>\\n    <td valign=\\\"top\\\"><font size=\\\"2\\\" face=\\\"Verdana, Arial, Helvetica, sans-serif\\\"></font></td>\\n    <td valign=\\\"top\\\"><font size=\\\"2\\\" face=\\\"Verdana, Arial, Helvetica, sans-serif\\\"></font></td>\\n    <td valign=\\\"top\\\"><font size=\\\"2\\\" face=\\\"Verdana, Arial, Helvetica, sans-serif\\\"></font></td>\\n    <td valign=\\\"top\\\">&nbsp;</td>\\n    <td width=\\\"10\\\">&nbsp;</td>\\n  </tr>\\n  <tr> \\n    <td width=\\\"10\\\">&nbsp;</td>\\n    <td valign=\\\"top\\\" bgcolor=\\\"#d4dfff\\\"><b><font size=\\\"2\\\" face=\\\"Verdana, Arial, Helvetica, sans-serif\\\">South</font></b></td>\\n    <td valign=\\\"top\\\" bgcolor=\\\"#d4dfff\\\"><b><font size=\\\"2\\\" face=\\\"Verdana, Arial, Helvetica, sans-serif\\\">Randal Kendrix </font></b></td>\\n    <td valign=\\\"top\\\" colspan=\\\"2\\\" bgcolor=\\\"#d4dfff\\\"><b><font size=\\\"2\\\" face=\\\"Verdana, Arial, Helvetica, sans-serif\\\"><A href=\\\"mailto:rkendrix@cusa.canon.com\\\" >(rkendrix@cusa.canon.com)</A></font></b></td>\\n    <td width=\\\"10\\\">&nbsp;</td>\\n  </tr>\\n  <tr> \\n    <td width=\\\"10\\\">&nbsp;</td>\\n    <td valign=\\\"top\\\"><font size=\\\"2\\\" face=\\\"Verdana, Arial, Helvetica, sans-serif\\\">Arkansas</font></td>\\n    <td valign=\\\"top\\\"><font size=\\\"2\\\" face=\\\"Verdana, Arial, Helvetica, sans-serif\\\">Mississippi</font></td>\\n    <td valign=\\\"top\\\"><font size=\\\"2\\\" face=\\\"Verdana, Arial, Helvetica, sans-serif\\\">Oklahoma</font></td>\\n    <td valign=\\\"top\\\"><font size=\\\"2\\\" face=\\\"Verdana, Arial, Helvetica, sans-serif\\\">Utah</font></td>\\n    <td width=\\\"10\\\">&nbsp;</td>\\n  </tr>\\n  <tr> \\n    <td width=\\\"10\\\">&nbsp;</td>\\n    <td valign=\\\"top\\\"><font size=\\\"2\\\" face=\\\"Verdana, Arial, Helvetica, sans-serif\\\">Louisiana</font></td>\\n    <td valign=\\\"top\\\"><font size=\\\"2\\\" face=\\\"Verdana, Arial, Helvetica, sans-serif\\\">New Mexico</font></td>\\n    <td valign=\\\"top\\\"><font size=\\\"2\\\" face=\\\"Verdana, Arial, Helvetica, sans-serif\\\">Texas</font></td>\\n    <td valign=\\\"top\\\">&nbsp;</td>\\n    <td width=\\\"10\\\">&nbsp;</td>\\n  </tr>\\n  <tr> \\n    <td width=\\\"10\\\">&nbsp;</td>\\n    <td valign=\\\"top\\\"><font size=\\\"2\\\" face=\\\"Verdana, Arial, Helvetica, sans-serif\\\"></font></td>\\n    <td valign=\\\"top\\\"><font size=\\\"2\\\" face=\\\"Verdana, Arial, Helvetica, sans-serif\\\"></font></td>\\n    <td valign=\\\"top\\\"><font size=\\\"2\\\" face=\\\"Verdana, Arial, Helvetica, sans-serif\\\"></font></td>\\n    <td valign=\\\"top\\\"><font size=\\\"2\\\" face=\\\"Verdana, Arial, Helvetica, sans-serif\\\"></font></td>\\n    <td width=\\\"10\\\">&nbsp;</td>\\n  </tr>\\n  <tr> \\n    <td width=\\\"10\\\">&nbsp;</td>\\n    <td valign=\\\"top\\\" bgcolor=\\\"#d4dfff\\\"><b><font size=\\\"2\\\" face=\\\"Verdana, Arial, Helvetica, sans-serif\\\">Southeast</font></b></td>\\n    <td valign=\\\"top\\\" bgcolor=\\\"#d4dfff\\\"><b><font size=\\\"2\\\" face=\\\"Verdana, Arial, Helvetica, sans-serif\\\">Carmen DiMartino </font></b></td>\\n    <td valign=\\\"top\\\" colspan=\\\"2\\\" bgcolor=\\\"#d4dfff\\\"><b><font size=\\\"2\\\" face=\\\"Verdana, Arial, Helvetica, sans-serif\\\"><A href=\\\"mailto:cdimartino@cusa.canon.com\\\" >(cdimartino@cusa.canon.com)</A> \\n      </font></b></td>\\n    <td width=\\\"10\\\">&nbsp;</td>\\n  </tr>\\n  <tr> \\n    <td width=\\\"10\\\">&nbsp;</td>\\n    <td valign=\\\"top\\\"><font size=\\\"2\\\" face=\\\"Verdana, Arial, Helvetica, sans-serif\\\">Alabama</font></td>\\n    <td valign=\\\"top\\\"><font size=\\\"2\\\" face=\\\"Verdana, Arial, Helvetica, sans-serif\\\">North Carolina</font></td>\\n    <td valign=\\\"top\\\"><font size=\\\"2\\\" face=\\\"Verdana, Arial, Helvetica, sans-serif\\\">Puerto Rico</font></td>\\n    <td valign=\\\"top\\\"><font size=\\\"2\\\" face=\\\"Verdana, Arial, Helvetica, sans-serif\\\">West Virginia</font></td>\\n    <td width=\\\"10\\\">&nbsp;</td>\\n  </tr>\\n  <tr>\\n    <td width=\\\"10\\\">&nbsp;</td>\\n    <td valign=\\\"top\\\"><font size=\\\"2\\\" face=\\\"Verdana, Arial, Helvetica, sans-serif\\\">Florida</font></td>\\n    <td valign=\\\"top\\\"><font size=\\\"2\\\" face=\\\"Verdana, Arial, Helvetica, sans-serif\\\">South Carolina</font></td>\\n    <td valign=\\\"top\\\"><font size=\\\"2\\\" face=\\\"Verdana, Arial, Helvetica, sans-serif\\\">Virginia</font></td>\\n    <td valign=\\\"top\\\">&nbsp;</td>\\n    <td width=\\\"10\\\">&nbsp;</td>\\n  </tr>\\n  <tr> \\n    <td width=\\\"10\\\">&nbsp;</td>\\n    <td valign=\\\"top\\\"><font size=\\\"2\\\" face=\\\"Verdana, Arial, Helvetica, sans-serif\\\">Georgia</font></td>\\n    <td valign=\\\"top\\\"><font size=\\\"2\\\" face=\\\"Verdana, Arial, Helvetica, sans-serif\\\">Pennsylvania</font></td>\\n    <td valign=\\\"top\\\"><font size=\\\"2\\\" face=\\\"Verdana, Arial, Helvetica, sans-serif\\\">Virgin Islands</font></td>\\n    <td valign=\\\"top\\\"><font size=\\\"2\\\" face=\\\"Verdana, Arial, Helvetica, sans-serif\\\"></font></td>\\n    <td width=\\\"10\\\">&nbsp;</td>\\n  </tr>\\n  <tr> \\n    <td width=\\\"10\\\">&nbsp;</td>\\n    <td valign=\\\"top\\\"><font size=\\\"2\\\" face=\\\"Verdana, Arial, Helvetica, sans-serif\\\"></font></td>\\n    <td valign=\\\"top\\\"><font size=\\\"2\\\" face=\\\"Verdana, Arial, Helvetica, sans-serif\\\"></font></td>\\n    <td valign=\\\"top\\\"><font size=\\\"2\\\" face=\\\"Verdana, Arial, Helvetica, sans-serif\\\"></font></td>\\n    <td valign=\\\"top\\\"><font size=\\\"2\\\" face=\\\"Verdana, Arial, Helvetica, sans-serif\\\"></font></td>\\n    <td width=\\\"10\\\">&nbsp;</td>\\n  </tr>\\n  <tr> \\n    <td width=\\\"10\\\">&nbsp;</td>\\n    <td valign=\\\"top\\\" bgcolor=\\\"#d4dfff\\\"><b><font size=\\\"2\\\" face=\\\"Verdana, Arial, Helvetica, sans-serif\\\">Southwest</font></b></td>\\n    <td valign=\\\"top\\\" bgcolor=\\\"#d4dfff\\\"><b><font size=\\\"2\\\" face=\\\"Verdana, Arial, Helvetica, sans-serif\\\">Heath Tagtmeyer </font></b></td>\\n    <td valign=\\\"top\\\" colspan=\\\"2\\\" bgcolor=\\\"#d4dfff\\\"><b><font size=\\\"2\\\" face=\\\"Verdana, Arial, Helvetica, sans-serif\\\"><A href=\\\"mailto:htagtmeyer@cusa.canon.com\\\" >(htagtmeyer@cusa.canon.com)</A></font></b></td>\\n    <td width=\\\"10\\\">&nbsp;</td>\\n  </tr>\\n  <tr> \\n    <td width=\\\"10\\\">&nbsp;</td>\\n    <td valign=\\\"top\\\"><font size=\\\"2\\\" face=\\\"Verdana, Arial, Helvetica, sans-serif\\\">Arizona</font></td>\\n    <td valign=\\\"top\\\"><font size=\\\"2\\\" face=\\\"Verdana, Arial, Helvetica, sans-serif\\\">Hawaii</font></td>\\n    <td valign=\\\"top\\\"><font size=\\\"2\\\" face=\\\"Verdana, Arial, Helvetica, sans-serif\\\">Oregon</font></td>\\n    <td valign=\\\"top\\\"><font size=\\\"2\\\" face=\\\"Verdana, Arial, Helvetica, sans-serif\\\"></font></td>\\n    <td width=\\\"10\\\">&nbsp;</td>\\n  </tr>\\n  <tr> \\n    <td width=\\\"10\\\">&nbsp;</td>\\n    <td valign=\\\"top\\\"><font size=\\\"2\\\" face=\\\"Verdana, Arial, Helvetica, sans-serif\\\">California</font></td>\\n    <td valign=\\\"top\\\"><font size=\\\"2\\\" face=\\\"Verdana, Arial, Helvetica, sans-serif\\\">Nevada</font></td>\\n    <td valign=\\\"top\\\"><font size=\\\"2\\\" face=\\\"Verdana, Arial, Helvetica, sans-serif\\\"></font></td>\\n    <td valign=\\\"top\\\"><font size=\\\"2\\\" face=\\\"Verdana, Arial, Helvetica, sans-serif\\\"></font></td>\\n    <td width=\\\"10\\\">&nbsp;</td>\\n  </tr>\\n  <tr> \\n    <td width=\\\"10\\\">&nbsp;</td>\\n    <td valign=\\\"top\\\"><font size=\\\"2\\\" face=\\\"Verdana, Arial, Helvetica, sans-serif\\\"></font></td>\\n    <td valign=\\\"top\\\"><font size=\\\"2\\\" face=\\\"Verdana, Arial, Helvetica, sans-serif\\\"></font></td>\\n    <td valign=\\\"top\\\"><font size=\\\"2\\\" face=\\\"Verdana, Arial, Helvetica, sans-serif\\\"></font></td>\\n    <td valign=\\\"top\\\"><font size=\\\"2\\\" face=\\\"Verdana, Arial, Helvetica, sans-serif\\\"></font></td>\\n    <td width=\\\"10\\\">&nbsp;</td>\\n  </tr>\\n  <tr> \\n    <td width=\\\"10\\\">&nbsp;</td>\\n    <td valign=\\\"top\\\" colspan=\\\"4\\\"><font size=\\\"2\\\" face=\\\"Verdana, Arial, Helvetica, sans-serif\\\"><i>\\n    If you wish to opt out of receiving future e-mail blasts, please <a href=\\\"#\\\">click here</a>. If you would like additional recipients to receive our monthly communications, send additional names and e-mail addresses to <A href=\\\"mailto:canonresellers@cits.canon.com\\\">canonresellers@cits.canon.com</A>.\\n    </i></font>\\n    </td>\\n    <td width=\\\"10\\\">&nbsp;</td>\\n  </tr>\\n  <tr> \\n    <td width=\\\"10\\\">&nbsp;</td>\\n    <td valign=\\\"top\\\">&nbsp;</td>\\n    <td valign=\\\"top\\\">&nbsp;</td>\\n    <td valign=\\\"top\\\">&nbsp;</td>\\n    <td valign=\\\"top\\\">&nbsp;</td>\\n    <td width=\\\"10\\\">&nbsp;</td>\\n  </tr>\\n</table>\\n<br>\\n</body>\\n</html>\\n\\n\\n<!-- ### /promo content ### -->\\n</td>\\n<td width=\\\"1\\\"><img src=\\\"http://www.cnet.com/b.gif\\\" width=\\\"1\\\" height=\\\"1\\\"></td></tr>\\n</table>\\n\\n<!-- ### footer ### -->\\n<table width=\\\"624\\\" bgcolor=\\\"#000000\\\" cellpadding=\\\"0\\\" cellspacing=\\\"0\\\" border=\\\"0\\\">\\n<tr><td width=\\\"1\\\"><img src=\\\"http://www.cnet.com/b.gif\\\" width=\\\"1\\\" height=\\\"1\\\"></td>\\n<td width=\\\"10\\\" bgcolor=\\\"#ffcc00\\\"><img src=\\\"http://www.cnet.com/b.gif\\\" width=\\\"10\\\" height=\\\"1\\\"></td>\\n<td width=\\\"1\\\"><img src=\\\"http://www.cnet.com/b.gif\\\" width=\\\"1\\\" height=\\\"1\\\"></td>\\n<td width=\\\"599\\\" bgcolor=\\\"#cccccc\\\"><img src=\\\"http://www.cnet.com/b.gif\\\" width=\\\"1\\\" height=\\\"1\\\"></td>\\n<td width=\\\"1\\\"><img src=\\\"http://www.cnet.com/b.gif\\\" width=\\\"1\\\" height=\\\"1\\\"></td></tr>\\n</table>\\n<table width=\\\"624\\\" bgcolor=\\\"#eeeeee\\\" cellpadding=\\\"0\\\" cellspacing=\\\"0\\\" border=\\\"0\\\">\\n<tr><td width=\\\"1\\\" bgcolor=\\\"#000000\\\"><img src=\\\"http://www.cnet.com/b.gif\\\" width=\\\"1\\\" height=\\\"1\\\"></td>\\n<td width=\\\"10\\\" bgcolor=\\\"#ffcc00\\\"><img src=\\\"http://www.cnet.com/b.gif\\\" width=\\\"10\\\" height=\\\"1\\\"></td>\\n<td width=\\\"1\\\" bgcolor=\\\"#000000\\\"><img src=\\\"http://www.cnet.com/b.gif\\\" width=\\\"1\\\" height=\\\"1\\\"></td>\\n<td width=\\\"12\\\"><img src=\\\"http://www.cnet.com/b.gif\\\" width=\\\"12\\\" height=\\\"1\\\"></td>\\n<td width=\\\"575\\\"><img src=\\\"http://www.cnet.com/b.gif\\\" width=\\\"1\\\" height=\\\"10\\\"><br>\\n<a href='http://nl.com.com/servlet/url_login?email=qqqqqqqqqq-zdnet@spamassassin.taint.org'><img src=\\\"http://a.r.tv.com/cnet.1d/i/nl/ft.gif\\\" width=\\\"375\\\" height=\\\"18\\\" border=\\\"0\\\" alt=\\\"Sign up for more free newsletters from CNET!\\\"></a><br>\\n\\n<!-- subscription management -->\\n\\n<font face=\\\"ms sans serif, geneva\\\" size=\\\"-2\\\">\\nThe e-mail address for your subscription is&nbsp;qqqqqqqqqq-zdnet@spamassassin.taint.org<p>\\n\\n<A NOTRACK HREF=\\\"http://clickthru.online.com/Click?q=a5-DyfHrzZqSQXorbLmIMk61qDcw2kfasRR\\\">Unsubscribe</A>&nbsp|&nbsp<a href='http://nl.com.com/servlet/url_login?email=qqqqqqqqqq-zdnet@spamassassin.taint.org'>Manage My Subscriptions</a>\\n&nbsp;|&nbsp;<a href=\\\"http://www.cnet.com/subscription/0-16335-7-6770019.html\\\">FAQ</A>\\n&nbsp|&nbsp<a href=\\\"http://www.cnet.com/aboutcnet/0-13618.html?tag=ft\\\">Advertise</A><br></font>\\n\\n<!-- /subscription management-->\\n\\n</font><img src=\\\"http://www.zdnet.com/b.gif\\\" width=\\\"1\\\" height=\\\"8\\\"></td>\\n<td width=\\\"12\\\"><img src=\\\"http://www.cnet.com/b.gif\\\" width=\\\"12\\\" height=\\\"1\\\"></td>\\n<td width=\\\"1\\\" bgcolor=\\\"#000000\\\"><img src=\\\"http://www.cnet.com/b.gif\\\" width=\\\"1\\\" height=\\\"1\\\"></td></tr>\\n</table>\\n<table width=\\\"624\\\" bgcolor=\\\"#000000\\\" cellpadding=\\\"0\\\" cellspacing=\\\"0\\\" border=\\\"0\\\">\\n<tr><td width=\\\"1\\\"><img src=\\\"http://www.cnet.com/b.gif\\\" width=\\\"1\\\" height=\\\"1\\\"></td>\\n<td width=\\\"10\\\" bgcolor=\\\"#ffcc00\\\"><img src=\\\"http://www.cnet.com/b.gif\\\" width=\\\"10\\\" height=\\\"1\\\"></td>\\n<td width=\\\"601\\\"><img src=\\\"http://www.cnet.com/b.gif\\\" width=\\\"1\\\" height=\\\"1\\\"></td></tr>\\n</table>\\n<table width=\\\"624\\\" bgcolor=\\\"#ffcc00\\\" cellpadding=\\\"0\\\" cellspacing=\\\"0\\\" border=\\\"0\\\">\\n<tr><td width=\\\"1\\\" bgcolor=\\\"#000000\\\"><img src=\\\"http://www.cnet.com/b.gif\\\" width=\\\"1\\\" height=\\\"1\\\"></td>\\n<td width=\\\"10\\\"><img src=\\\"http://www.cnet.com/b.gif\\\" width=\\\"10\\\" height=\\\"1\\\"></td>\\n<td width=\\\"37\\\"><a href=\\\"http://www.cnet.com/frontdoor/0-1.html\\\"><img src=\\\"http://www.cnet.com/i/dp/smrb.gif\\\" width=\\\"37\\\" height=\\\"37\\\" border=\\\"0\\\"></a></td>\\n<td width=\\\"563\\\" nowrap><font face=\\\"arial, helvetica\\\" size=\\\"-1\\\">\\n<a href=\\\"http://shopper.cnet.com/shopping/0-1257.html\\\"><font color=\\\"#000000\\\">Price comparisons</font></a> | \\n<a href=\\\"http://computers.cnet.com/hardware/0-1016.html\\\"><font color=\\\"#000000\\\">Product reviews</font></a> | \\n<a href=\\\"http://news.cnet.com/\\\"><font color=\\\"#000000\\\">Tech news</font></a> |\\n<a href=\\\"http://download.cnet.com/downloads/0-10000.html\\\"><font color=\\\"#000000\\\">Downloads</font></a> | \\n<a href=\\\"http://www.cnet.com/sitemap/0-2253447.html\\\"><font color=\\\"#000000\\\">All CNET services</font></a>\\n</font></td>\\n<td width=\\\"1\\\" bgcolor=\\\"#000000\\\"><img src=\\\"http://www.cnet.com/b.gif\\\" width=\\\"1\\\" height=\\\"1\\\"></td></tr>\\n</table>\\n<table width=\\\"624\\\" cellpadding=\\\"0\\\" cellspacing=\\\"0\\\" border=\\\"0\\\">\\n<tr><td bgcolor=\\\"#000000\\\"><img src=\\\"http://www.cnet.com/b.gif\\\" width=\\\"1\\\" height=\\\"1\\\"></td></tr>\\n<tr><td height=\\\"25\\\"><font face=\\\"ms sans serif, geneva\\\" size=\\\"-2\\\"><tr:ad name=\\\"copyright\\\"/>\\n</a>.</font></td></tr>\\n</table>\\n<!-- ### /footer ### -->\\n\\n</body>\\n</html>\\n\\n\\n<IMG HEIGHT=1 WIDTH=1 SRC=\\\"http://clickthru.online.com/Click?q=ba-m-95-hpITW8NcktOu5LdlZB0PRRR\\\">\\n\\n\"\n        ],\n        \"semantic_type\": \"\",\n        \"description\": \"\"\n      }\n    },\n    {\n      \"column\": \"label\",\n      \"properties\": {\n        \"dtype\": \"number\",\n        \"std\": 0,\n        \"min\": 0,\n        \"max\": 1,\n        \"num_unique_values\": 2,\n        \"samples\": [\n          1,\n          0\n        ],\n        \"semantic_type\": \"\",\n        \"description\": \"\"\n      }\n    }\n  ]\n}"
            }
          },
          "metadata": {},
          "execution_count": 83
        }
      ]
    },
    {
      "cell_type": "code",
      "source": [
        "\n",
        "def clean_text(text):\n",
        "  text = text.lower()\n",
        "  text = re.sub(r\"http\\S+\", \"\", text) # remove URLs\n",
        "  text = re.sub(r\"\\S+@\\S+\", \"\", text)\n",
        "  text = re.sub(r\"<.*?>\", \"\", text)\n",
        "  text = re.sub(r\"[^a-zA-Z0-9\\s]\", \"\", text)\n",
        "  return text\n",
        "\n",
        "df['clean_text'] = df['text'].apply(clean_text)\n",
        "\n",
        "df.head()"
      ],
      "metadata": {
        "colab": {
          "base_uri": "https://localhost:8080/",
          "height": 206
        },
        "id": "GE09IssxDKk8",
        "outputId": "43212366-82ae-43ca-dc14-47200470756e"
      },
      "execution_count": 84,
      "outputs": [
        {
          "output_type": "execute_result",
          "data": {
            "text/plain": [
              "                                                text  label  \\\n",
              "0  Return-Path: <bounce-lghtml-2534368@sprocket.l...      0   \n",
              "1  From rpm-list-admin@freshrpms.net  Wed Oct  9 ...      0   \n",
              "2  From dus@insiq.us  Thu Sep 19 11:15:00 2002\\nR...      1   \n",
              "3  Return-Path: ler@lerami.lerctr.org\\nDelivery-D...      1   \n",
              "4  From firstever001@44yes.onlineisbest.com  Mon ...      1   \n",
              "\n",
              "                                          clean_text  \n",
              "0  returnpath \\nreceived from lockergnomecom spro...  \n",
              "1  from   wed oct  9 105056 2002\\nreturnpath \\nde...  \n",
              "2  from   thu sep 19 111500 2002\\nreturnpath \\nde...  \n",
              "3  returnpath \\ndeliverydate sat sep 14 132641 20...  \n",
              "4  from   mon sep 23 183345 2002\\nreturnpath \\nde...  "
            ],
            "text/html": [
              "\n",
              "  <div id=\"df-e9b7889b-ef9f-4c3b-befe-ac0b4443a03a\" class=\"colab-df-container\">\n",
              "    <div>\n",
              "<style scoped>\n",
              "    .dataframe tbody tr th:only-of-type {\n",
              "        vertical-align: middle;\n",
              "    }\n",
              "\n",
              "    .dataframe tbody tr th {\n",
              "        vertical-align: top;\n",
              "    }\n",
              "\n",
              "    .dataframe thead th {\n",
              "        text-align: right;\n",
              "    }\n",
              "</style>\n",
              "<table border=\"1\" class=\"dataframe\">\n",
              "  <thead>\n",
              "    <tr style=\"text-align: right;\">\n",
              "      <th></th>\n",
              "      <th>text</th>\n",
              "      <th>label</th>\n",
              "      <th>clean_text</th>\n",
              "    </tr>\n",
              "  </thead>\n",
              "  <tbody>\n",
              "    <tr>\n",
              "      <th>0</th>\n",
              "      <td>Return-Path: &lt;bounce-lghtml-2534368@sprocket.l...</td>\n",
              "      <td>0</td>\n",
              "      <td>returnpath \\nreceived from lockergnomecom spro...</td>\n",
              "    </tr>\n",
              "    <tr>\n",
              "      <th>1</th>\n",
              "      <td>From rpm-list-admin@freshrpms.net  Wed Oct  9 ...</td>\n",
              "      <td>0</td>\n",
              "      <td>from   wed oct  9 105056 2002\\nreturnpath \\nde...</td>\n",
              "    </tr>\n",
              "    <tr>\n",
              "      <th>2</th>\n",
              "      <td>From dus@insiq.us  Thu Sep 19 11:15:00 2002\\nR...</td>\n",
              "      <td>1</td>\n",
              "      <td>from   thu sep 19 111500 2002\\nreturnpath \\nde...</td>\n",
              "    </tr>\n",
              "    <tr>\n",
              "      <th>3</th>\n",
              "      <td>Return-Path: ler@lerami.lerctr.org\\nDelivery-D...</td>\n",
              "      <td>1</td>\n",
              "      <td>returnpath \\ndeliverydate sat sep 14 132641 20...</td>\n",
              "    </tr>\n",
              "    <tr>\n",
              "      <th>4</th>\n",
              "      <td>From firstever001@44yes.onlineisbest.com  Mon ...</td>\n",
              "      <td>1</td>\n",
              "      <td>from   mon sep 23 183345 2002\\nreturnpath \\nde...</td>\n",
              "    </tr>\n",
              "  </tbody>\n",
              "</table>\n",
              "</div>\n",
              "    <div class=\"colab-df-buttons\">\n",
              "\n",
              "  <div class=\"colab-df-container\">\n",
              "    <button class=\"colab-df-convert\" onclick=\"convertToInteractive('df-e9b7889b-ef9f-4c3b-befe-ac0b4443a03a')\"\n",
              "            title=\"Convert this dataframe to an interactive table.\"\n",
              "            style=\"display:none;\">\n",
              "\n",
              "  <svg xmlns=\"http://www.w3.org/2000/svg\" height=\"24px\" viewBox=\"0 -960 960 960\">\n",
              "    <path d=\"M120-120v-720h720v720H120Zm60-500h600v-160H180v160Zm220 220h160v-160H400v160Zm0 220h160v-160H400v160ZM180-400h160v-160H180v160Zm440 0h160v-160H620v160ZM180-180h160v-160H180v160Zm440 0h160v-160H620v160Z\"/>\n",
              "  </svg>\n",
              "    </button>\n",
              "\n",
              "  <style>\n",
              "    .colab-df-container {\n",
              "      display:flex;\n",
              "      gap: 12px;\n",
              "    }\n",
              "\n",
              "    .colab-df-convert {\n",
              "      background-color: #E8F0FE;\n",
              "      border: none;\n",
              "      border-radius: 50%;\n",
              "      cursor: pointer;\n",
              "      display: none;\n",
              "      fill: #1967D2;\n",
              "      height: 32px;\n",
              "      padding: 0 0 0 0;\n",
              "      width: 32px;\n",
              "    }\n",
              "\n",
              "    .colab-df-convert:hover {\n",
              "      background-color: #E2EBFA;\n",
              "      box-shadow: 0px 1px 2px rgba(60, 64, 67, 0.3), 0px 1px 3px 1px rgba(60, 64, 67, 0.15);\n",
              "      fill: #174EA6;\n",
              "    }\n",
              "\n",
              "    .colab-df-buttons div {\n",
              "      margin-bottom: 4px;\n",
              "    }\n",
              "\n",
              "    [theme=dark] .colab-df-convert {\n",
              "      background-color: #3B4455;\n",
              "      fill: #D2E3FC;\n",
              "    }\n",
              "\n",
              "    [theme=dark] .colab-df-convert:hover {\n",
              "      background-color: #434B5C;\n",
              "      box-shadow: 0px 1px 3px 1px rgba(0, 0, 0, 0.15);\n",
              "      filter: drop-shadow(0px 1px 2px rgba(0, 0, 0, 0.3));\n",
              "      fill: #FFFFFF;\n",
              "    }\n",
              "  </style>\n",
              "\n",
              "    <script>\n",
              "      const buttonEl =\n",
              "        document.querySelector('#df-e9b7889b-ef9f-4c3b-befe-ac0b4443a03a button.colab-df-convert');\n",
              "      buttonEl.style.display =\n",
              "        google.colab.kernel.accessAllowed ? 'block' : 'none';\n",
              "\n",
              "      async function convertToInteractive(key) {\n",
              "        const element = document.querySelector('#df-e9b7889b-ef9f-4c3b-befe-ac0b4443a03a');\n",
              "        const dataTable =\n",
              "          await google.colab.kernel.invokeFunction('convertToInteractive',\n",
              "                                                    [key], {});\n",
              "        if (!dataTable) return;\n",
              "\n",
              "        const docLinkHtml = 'Like what you see? Visit the ' +\n",
              "          '<a target=\"_blank\" href=https://colab.research.google.com/notebooks/data_table.ipynb>data table notebook</a>'\n",
              "          + ' to learn more about interactive tables.';\n",
              "        element.innerHTML = '';\n",
              "        dataTable['output_type'] = 'display_data';\n",
              "        await google.colab.output.renderOutput(dataTable, element);\n",
              "        const docLink = document.createElement('div');\n",
              "        docLink.innerHTML = docLinkHtml;\n",
              "        element.appendChild(docLink);\n",
              "      }\n",
              "    </script>\n",
              "  </div>\n",
              "\n",
              "\n",
              "<div id=\"df-ef1427d0-9144-4496-b014-26aad103cc79\">\n",
              "  <button class=\"colab-df-quickchart\" onclick=\"quickchart('df-ef1427d0-9144-4496-b014-26aad103cc79')\"\n",
              "            title=\"Suggest charts\"\n",
              "            style=\"display:none;\">\n",
              "\n",
              "<svg xmlns=\"http://www.w3.org/2000/svg\" height=\"24px\"viewBox=\"0 0 24 24\"\n",
              "     width=\"24px\">\n",
              "    <g>\n",
              "        <path d=\"M19 3H5c-1.1 0-2 .9-2 2v14c0 1.1.9 2 2 2h14c1.1 0 2-.9 2-2V5c0-1.1-.9-2-2-2zM9 17H7v-7h2v7zm4 0h-2V7h2v10zm4 0h-2v-4h2v4z\"/>\n",
              "    </g>\n",
              "</svg>\n",
              "  </button>\n",
              "\n",
              "<style>\n",
              "  .colab-df-quickchart {\n",
              "      --bg-color: #E8F0FE;\n",
              "      --fill-color: #1967D2;\n",
              "      --hover-bg-color: #E2EBFA;\n",
              "      --hover-fill-color: #174EA6;\n",
              "      --disabled-fill-color: #AAA;\n",
              "      --disabled-bg-color: #DDD;\n",
              "  }\n",
              "\n",
              "  [theme=dark] .colab-df-quickchart {\n",
              "      --bg-color: #3B4455;\n",
              "      --fill-color: #D2E3FC;\n",
              "      --hover-bg-color: #434B5C;\n",
              "      --hover-fill-color: #FFFFFF;\n",
              "      --disabled-bg-color: #3B4455;\n",
              "      --disabled-fill-color: #666;\n",
              "  }\n",
              "\n",
              "  .colab-df-quickchart {\n",
              "    background-color: var(--bg-color);\n",
              "    border: none;\n",
              "    border-radius: 50%;\n",
              "    cursor: pointer;\n",
              "    display: none;\n",
              "    fill: var(--fill-color);\n",
              "    height: 32px;\n",
              "    padding: 0;\n",
              "    width: 32px;\n",
              "  }\n",
              "\n",
              "  .colab-df-quickchart:hover {\n",
              "    background-color: var(--hover-bg-color);\n",
              "    box-shadow: 0 1px 2px rgba(60, 64, 67, 0.3), 0 1px 3px 1px rgba(60, 64, 67, 0.15);\n",
              "    fill: var(--button-hover-fill-color);\n",
              "  }\n",
              "\n",
              "  .colab-df-quickchart-complete:disabled,\n",
              "  .colab-df-quickchart-complete:disabled:hover {\n",
              "    background-color: var(--disabled-bg-color);\n",
              "    fill: var(--disabled-fill-color);\n",
              "    box-shadow: none;\n",
              "  }\n",
              "\n",
              "  .colab-df-spinner {\n",
              "    border: 2px solid var(--fill-color);\n",
              "    border-color: transparent;\n",
              "    border-bottom-color: var(--fill-color);\n",
              "    animation:\n",
              "      spin 1s steps(1) infinite;\n",
              "  }\n",
              "\n",
              "  @keyframes spin {\n",
              "    0% {\n",
              "      border-color: transparent;\n",
              "      border-bottom-color: var(--fill-color);\n",
              "      border-left-color: var(--fill-color);\n",
              "    }\n",
              "    20% {\n",
              "      border-color: transparent;\n",
              "      border-left-color: var(--fill-color);\n",
              "      border-top-color: var(--fill-color);\n",
              "    }\n",
              "    30% {\n",
              "      border-color: transparent;\n",
              "      border-left-color: var(--fill-color);\n",
              "      border-top-color: var(--fill-color);\n",
              "      border-right-color: var(--fill-color);\n",
              "    }\n",
              "    40% {\n",
              "      border-color: transparent;\n",
              "      border-right-color: var(--fill-color);\n",
              "      border-top-color: var(--fill-color);\n",
              "    }\n",
              "    60% {\n",
              "      border-color: transparent;\n",
              "      border-right-color: var(--fill-color);\n",
              "    }\n",
              "    80% {\n",
              "      border-color: transparent;\n",
              "      border-right-color: var(--fill-color);\n",
              "      border-bottom-color: var(--fill-color);\n",
              "    }\n",
              "    90% {\n",
              "      border-color: transparent;\n",
              "      border-bottom-color: var(--fill-color);\n",
              "    }\n",
              "  }\n",
              "</style>\n",
              "\n",
              "  <script>\n",
              "    async function quickchart(key) {\n",
              "      const quickchartButtonEl =\n",
              "        document.querySelector('#' + key + ' button');\n",
              "      quickchartButtonEl.disabled = true;  // To prevent multiple clicks.\n",
              "      quickchartButtonEl.classList.add('colab-df-spinner');\n",
              "      try {\n",
              "        const charts = await google.colab.kernel.invokeFunction(\n",
              "            'suggestCharts', [key], {});\n",
              "      } catch (error) {\n",
              "        console.error('Error during call to suggestCharts:', error);\n",
              "      }\n",
              "      quickchartButtonEl.classList.remove('colab-df-spinner');\n",
              "      quickchartButtonEl.classList.add('colab-df-quickchart-complete');\n",
              "    }\n",
              "    (() => {\n",
              "      let quickchartButtonEl =\n",
              "        document.querySelector('#df-ef1427d0-9144-4496-b014-26aad103cc79 button');\n",
              "      quickchartButtonEl.style.display =\n",
              "        google.colab.kernel.accessAllowed ? 'block' : 'none';\n",
              "    })();\n",
              "  </script>\n",
              "</div>\n",
              "\n",
              "    </div>\n",
              "  </div>\n"
            ],
            "application/vnd.google.colaboratory.intrinsic+json": {
              "type": "dataframe",
              "variable_name": "df",
              "summary": "{\n  \"name\": \"df\",\n  \"rows\": 752,\n  \"fields\": [\n    {\n      \"column\": \"text\",\n      \"properties\": {\n        \"dtype\": \"string\",\n        \"num_unique_values\": 752,\n        \"samples\": [\n          \"From social-admin@linux.ie  Thu Sep 19 17:49:38 2002\\nReturn-Path: <social-admin@linux.ie>\\nDelivered-To: zzzz@localhost.spamassassin.taint.org\\nReceived: from localhost (jalapeno [127.0.0.1])\\n\\tby zzzzason.org (Postfix) with ESMTP id 87C5416F03\\n\\tfor <zzzz@localhost>; Thu, 19 Sep 2002 17:49:37 +0100 (IST)\\nReceived: from jalapeno [127.0.0.1]\\n\\tby localhost with IMAP (fetchmail-5.9.0)\\n\\tfor zzzz@localhost (single-drop); Thu, 19 Sep 2002 17:49:37 +0100 (IST)\\nReceived: from lugh.tuatha.org (root@lugh.tuatha.org [194.125.145.45]) by\\n    dogma.slashnull.org (8.11.6/8.11.6) with ESMTP id g8JGM4C27587 for\\n    <zzzz+ilug-social@jmason.org>; Thu, 19 Sep 2002 17:22:04 +0100\\nReceived: from lugh.tuatha.org (list@localhost [127.0.0.1]) by\\n    lugh.tuatha.org (8.12.3/8.9.3) with ESMTP id g8JGM5Ft007785;\\n    Thu, 19 Sep 2002 17:22:05 +0100\\nReceived: from teleport3.azoogle.com (teleport3.azoogle.com\\n    [66.197.170.6]) by lugh.tuatha.org (8.12.3/8.9.3) with SMTP id\\n    g8JGLnFu007757 for <Social@Linux.Ie>; Thu, 19 Sep 2002 17:21:50 +0100\\nReceived: from azoogle by teleport3.azoogle.com with local (Azoogle 2.1)\\n    id 93-10429-1090346 for Social@Linux.Ie; Thu, 19 Sep 2002 16:21:48 GMT\\nContent-Type: text/plain; charset=\\\"us-ascii\\\"\\nContent-Disposition: inline\\nContent-Transfer-Encoding: 7bit\\nMIME-Version: 1.0\\nFrom: \\\"You$25 GiftCard\\\" <prizemama@reply2.azoogle.com>\\nReply-To: \\\"You$25 GiftCard\\\" <prizemama-93-10429-1090346@reply2.azoogle.com>\\nTo: Social@linux.ie\\nMessage-Id: <93-10429-1090346@teleport3.azoogle.com>\\nX-Info: please report abuse of this service to abuse@azoogle.com\\nSubject: [ILUG-Social] Claim Your $25 Kmart Gift Card\\nSender: social-admin@linux.ie\\nErrors-To: social-admin@linux.ie\\nX-Beenthere: social@linux.ie\\nX-Mailman-Version: 2.0.11\\nPrecedence: bulk\\nList-Help: <mailto:social-request@linux.ie?subject=help>\\nList-Post: <mailto:social@linux.ie>\\nList-Subscribe: <http://www.linux.ie/mailman/listinfo/social>,\\n    <mailto:social-request@linux.ie?subject=subscribe>\\nList-Id: Irish Linux Users' Group social events <social.linux.ie>\\nList-Unsubscribe: <http://www.linux.ie/mailman/listinfo/social>,\\n    <mailto:social-request@linux.ie?subject=unsubscribe>\\nList-Archive: <http://www.linux.ie/pipermail/social/>\\nX-Original-Date: Thu, 19 Sep 2002 16:21:48 GMT\\nDate: Thu, 19 Sep 2002 16:21:48 GMT\\n\\n1) Claim Your $25 Kmart Gift Card\\nhttp://www.adclick.ws/p.cfm?o=320&s=pk00001\\n\\n2) Auto Loans, Fast Approvals for Any Credit!\\nhttp://www.adclick.ws/p.cfm?o=383&s=pk1\\n\\n3) Are You Paying Too Much for Auto Insurance - Find Out?\\nhttp://www.adclick.ws/p.cfm?o=334&s=pk1\\n\\nHave a Wonderful Day,\\nPrizeMama.com\\n\\n\\n\\n\\n\\n\\n\\n\\n\\n------------------\\nYou are receiving this email because you have opted-in to receive\\nemail from publisher: prizemama.  To unsubscribe, click below:\\n\\nhttp://u2.azoogle.com/?z=93-1090346-62lLC4\\n-- \\nIrish Linux Users' Group Social Events: social@linux.ie\\nhttp://www.linux.ie/mailman/listinfo/social for (un)subscription information.\\nList maintainer: listmaster@linux.ie\\n\\n\\n\",\n          \"From 2jc66Qs@seed.net.tw  Mon Sep 16 10:44:15 2002\\nReturn-Path: <2jc66Qs@seed.net.tw>\\nDelivered-To: zzzz@localhost.spamassassin.taint.org\\nReceived: from localhost (jalapeno [127.0.0.1])\\n\\tby zzzzason.org (Postfix) with ESMTP id 0490216F03\\n\\tfor <zzzz@localhost>; Mon, 16 Sep 2002 10:44:14 +0100 (IST)\\nReceived: from jalapeno [127.0.0.1]\\n\\tby localhost with IMAP (fetchmail-5.9.0)\\n\\tfor zzzz@localhost (single-drop); Mon, 16 Sep 2002 10:44:14 +0100 (IST)\\nReceived: from vic (61-230-31-88.HINET-IP.hinet.net [61.230.31.88]) by\\n    dogma.slashnull.org (8.11.6/8.11.6) with SMTP id g8G5f0C14586 for\\n    <zzzz@jmason.org>; Mon, 16 Sep 2002 06:41:02 +0100\\nDate: Mon, 16 Sep 2002 06:41:02 +0100\\nReceived: from mx by ksts.seed.net.tw with SMTP id rUL6sGxdWdZ3kyj7w;\\n    Mon, 14 Sep 2015 13:45:52 +0800\\nMessage-Id: <GSwsC@saturn.seed.net.tw>\\nFrom: hinet@dogma.slashnull.org\\nTo: 0915.9.TXT@dogma.slashnull.org, 0913.10.TXT@dogma.slashnull.org,\\n\\t0913.11.TXT@dogma.slashnull.org, 0913.12.TXT@dogma.slashnull.org,\\n\\t0913.13.TXT@dogma.slashnull.org, 0913.14.TXT@dogma.slashnull.org,\\n\\t0913.2.TXT@dogma.slashnull.org, 0913.3.TXT@dogma.slashnull.org,\\n\\t0913.4.TXT@dogma.slashnull.org, 0913.5.TXT@dogma.slashnull.org,\\n\\t0913.6.TXT@dogma.slashnull.org, 0913.7.TXT@dogma.slashnull.org,\\n\\t0913.8.TXT@dogma.slashnull.org, 0913.9.TXT@dogma.slashnull.org,\\n\\t0915.1.TXT@dogma.slashnull.org, 0915.10.TXT@dogma.slashnull.org,\\n\\t0915.11.TXT@dogma.slashnull.org, 0915.12.TXT@dogma.slashnull.org,\\n\\t0915.13.TXT@dogma.slashnull.org, 0915.14.TXT@dogma.slashnull.org,\\n\\t0915.15.TXT@dogma.slashnull.org, 0915.16.TXT@dogma.slashnull.org,\\n\\t0915.2.TXT@dogma.slashnull.org, 0915.3.TXT@dogma.slashnull.org,\\n\\t0915.4.TXT@dogma.slashnull.org, 0915.5.TXT@dogma.slashnull.org,\\n\\t0915.6.TXT@dogma.slashnull.org, 0915.7.TXT@dogma.slashnull.org,\\n\\t0915.8.TXT@dogma.slashnull.org, 0913.1.TXT@dogma.slashnull.org\\nSubject: =?big5?Q?re:=A7=DA=AA=BE=B9D=A7A=BB=DD=ADn=A7=F3=A6h=BE=F7=B7|,=A4@=B0_=A8=D3=A7a!?=\\nMIME-Version: 1.0\\nX-Mailer: rexfd0sUMJVQYfjVBi\\nX-Priority: 3\\nX-Msmail-Priority: Normal\\nContent-Type: multipart/related; type=\\\"multipart/alternative\\\"; boundary=\\\"----=_NextPart_eZIySJCgLFoIw4lk9MkBwobm5\\\"\\n\\nThis is a multi-part message in MIME format.\\n\\n------=_NextPart_eZIySJCgLFoIw4lk9MkBwobm5\\nContent-Type: multipart/alternative;\\n\\tboundary=\\\"----=_NextPart_eZIySJCgLFoIw4lk9MkBwobm5AA\\\"\\n\\n\\n------=_NextPart_eZIySJCgLFoIw4lk9MkBwobm5AA\\nContent-Type: text/html;\\n\\tcharset=\\\"big5\\\"\\nContent-Transfer-Encoding: base64\\n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\\nPC9odG1sPg==\\n\\n\\n------=_NextPart_eZIySJCgLFoIw4lk9MkBwobm5AA--\\n------=_NextPart_eZIySJCgLFoIw4lk9MkBwobm5--\\n\\n\\n\\n\\n\",\n          \"Return-Path: <Online#3.20341.24-QI_LgZARqA78CdRR.1.b@newsletter.online.com>\\nReceived: from abv-sfo1-acmta1.CNET.COM (abv-sfo1-acmta1.cnet.com [206.16.1.160])\\n\\tby dogma.slashnull.org (8.11.6/8.11.6) with ESMTP id g6I4PsJ26465\\n\\tfor <qqqqqqqqqq-zdnet@spamassassin.taint.org>; Thu, 18 Jul 2002 05:25:54 +0100\\nReceived: from abv-sfo1-ac-agent7 (206.16.0.244) by abv-sfo1-acmta1.CNET.COM (PowerMTA(TM) v1.5); Wed, 17 Jul 2002 21:26:39 -0700 (envelope-from <Online#3.20341.24-QI_LgZARqA78CdRR.1.b@newsletter.online.com>)\\nMessage-ID: <7957247.1026966347345.JavaMail.root@abv-sfo1-ac-agent7>\\nDate: Wed, 17 Jul 2002 21:25:47 -0700 (PDT)\\nFrom: CNET Delivers <Online#3.20341.24-QI_LgZARqA78CdRR.1@newsletter.online.com>\\nTo: qqqqqqqqqq-zdnet@spamassassin.taint.org\\nSubject: Canon USA Reseller News : July\\nMime-Version: 1.0\\nContent-Type: text/html; charset=ISO-8859-1\\nContent-Transfer-Encoding: 7bit\\nX-Mailer: Accucast (http://www.accucast.com)\\nX-Mailer-Version: 2.8.4-2\\n\\n<html>\\n<head>\\n<title>CNET Announcement</title>\\n</head>\\n<body bgcolor=\\\"#eeeeee\\\">\\n<center>\\n<!-- header -->\\n<table width=\\\"624\\\" cellpadding=\\\"0\\\" cellspacing=\\\"0\\\" border=\\\"0\\\">\\n<tr><td><img src=\\\"http://www.cnet.com/i/nl/ann/hd.gif\\\" alt=\\\"CNET Announce\\\" width=\\\"442\\\" height=\\\"60\\\"></td>\\n<td><img src=\\\"http://www.cnet.com/i/nl/ann/rt.gif\\\" width=\\\"184\\\" height=\\\"60\\\"></td></tr>\\n</table>\\n<table width=\\\"624\\\" bgcolor=\\\"#000000\\\" cellpadding=\\\"0\\\" cellspacing=\\\"0\\\" border=\\\"0\\\">\\n<tr><td colspan=\\\"4\\\"><img src=\\\"http://www.cnet.com/b.gif\\\" width=\\\"10\\\" height=\\\"1\\\"></td></tr>\\n<tr><td width=\\\"1\\\"><img src=\\\"http://www.cnet.com/b.gif\\\" width=\\\"1\\\" height=\\\"10\\\"></td>\\n<td width=\\\"9\\\" bgcolor=\\\"#ffcc00\\\"><img src=\\\"http://www.cnet.com/b.gif\\\" width=\\\"9\\\" height=\\\"1\\\"></td>\\n<td width=\\\"624\\\" bgcolor=\\\"#ffcc00\\\"><img src=\\\"http://www.cnet.com/b.gif\\\" width=\\\"1\\\" height=\\\"1\\\"></td>\\n<td width=\\\"1\\\"><img src=\\\"http://www.cnet.com/b.gif\\\" width=\\\"1\\\" height=\\\"1\\\"></td></tr>\\n<tr><td><img src=\\\"http://www.cnet.com/b.gif\\\" width=\\\"1\\\" height=\\\"1\\\"></td>\\n<td bgcolor=\\\"#ffcc00\\\"><img src=\\\"http://www.cnet.com/b.gif\\\" width=\\\"1\\\" height=\\\"1\\\"></td>\\n<td colspan=\\\"2\\\"><img src=\\\"http://www.cnet.com/b.gif\\\" width=\\\"1\\\" height=\\\"1\\\"></td></tr>\\n</table>\\n<!-- /header -->\\n\\n<!-- content -->\\n<table width=\\\"624\\\" bgcolor=\\\"#000000\\\" cellpadding=\\\"0\\\" cellspacing=\\\"0\\\" border=\\\"0\\\">\\n<tr><td width=\\\"1\\\"><img src=\\\"http://www.cnet.com/b.gif\\\" width=\\\"1\\\" height=\\\"1\\\"></td>\\n<td width=\\\"9\\\" bgcolor=\\\"#ffcc00\\\"><img src=\\\"http://www.cnet.com/b.gif\\\" width=\\\"9\\\" height=\\\"1\\\"></td>\\n<td width=\\\"1\\\"><img src=\\\"http://www.cnet.com/b.gif\\\" width=\\\"1\\\" height=\\\"1\\\"></td>\\n<td width=\\\"624\\\" bgcolor=\\\"#ffffff\\\"><img src=\\\"/b.gif\\\" width=\\\"1\\\" height=\\\"8\\\"><br><div align=\\\"center\\\"><img src=\\\"http://home.cnet.com/Ads/Media/Images/ad10-dk.gif\\\" width=\\\"120\\\" height=\\\"10\\\"></div></td>\\n<td width=\\\"1\\\"><img src=\\\"http://www.cnet.com/b.gif\\\" width=\\\"1\\\" height=\\\"1\\\"></td></tr>\\n</table>\\n<table width=\\\"624\\\" bgcolor=\\\"#000000\\\" cellpadding=\\\"0\\\" cellspacing=\\\"0\\\" border=\\\"0\\\">\\n<tr><td width=\\\"1\\\"><img src=\\\"http://www.cnet.com/b.gif\\\" width=\\\"1\\\" height=\\\"1\\\"></td>\\n<td width=\\\"9\\\" bgcolor=\\\"#ffcc00\\\"><img src=\\\"http://www.cnet.com/b.gif\\\" width=\\\"9\\\" height=\\\"1\\\"></td>\\n<td width=\\\"1\\\"><img src=\\\"http://www.cnet.com/b.gif\\\" width=\\\"1\\\" height=\\\"1\\\"></td>\\n<td width=\\\"624\\\" bgcolor=\\\"#ffffff\\\"><font face=\\\"verdana, geneva\\\" size=\\\"-2\\\" color=\\\"#333333\\\">&nbsp;<sup>&nbsp;</sup>\\n\\n<!-- date -->\\nJuly 18, 2002\\n<!-- /date -->\\n</font><br>\\n\\n<!-- ### promo content ### -->\\n\\n\\n<html>\\n<head>\\n<title>Canon USA Reseller News : July</title>\\n<meta http-equiv=\\\"Content-Type\\\" content=\\\"text/html; charset=iso-8859-1\\\">\\n</head>\\n\\n<body bgcolor=\\\"#ffffff\\\" text=\\\"#000000\\\" topmargin=0 leftmargin=0 marginheight=\\\"0\\\" link=\\\"#000099\\\" vlink=\\\"#000099\\\">\\n<table width=\\\"598\\\" border=\\\"0\\\" cellspacing=\\\"0\\\" cellpadding=\\\"0\\\" align=\\\"center\\\">\\n  <tr> \\n    <td bgcolor=\\\"#ffffff\\\"><img src=\\\"http://www.captureleads.com/canon/leadblasts/nlimages/monthly_head_598.gif\\\" width=\\\"598\\\" height=\\\"70\\\" alt=\\\"Canon USA Reseller News\\\"></td>\\n  </tr>\\n<tr bgcolor=\\\"#ffffff\\\" align=\\\"right\\\"> \\n    <td bgcolor=\\\"#ffffff\\\"><font face=\\\"Verdana, Arial, Helvetica, sans-serif\\\" size=\\\"2\\\"><i>July 2002 / Volume 2 No. 5</i></font></td>\\n  </tr>\\n</table>\\n<br>\\n<table width=\\\"598\\\" border=\\\"0\\\" cellspacing=\\\"0\\\" cellpadding=\\\"0\\\" align=\\\"center\\\" >\\n  <tr> \\n    <td width=\\\"10\\\" valign=\\\"top\\\" bgcolor=\\\"#d4dfff\\\">&nbsp;</td>\\n    <td width=\\\"180\\\" valign=\\\"top\\\" bgcolor=\\\"#d4dfff\\\"><font face=\\\"Verdana, Arial, Helvetica, sans-serif\\\" size=\\\"3\\\"><br>\\n      </font> <font face=\\\"Verdana, Arial, Helvetica, sans-serif\\\" size=\\\"3\\\"><font color=\\\"#ff0000\\\"><b><font size=\\\"2\\\"><br>\\n      The Canon USA Reseller News&nbsp;</font></b></font><font size=\\\"2\\\">provides resellers with monthly announcements&nbsp;on Canon products that are purchased through national distributors.</font></font><font face=\\\"Verdana, Arial, Helvetica, sans-serif\\\" size=\\\"3\\\"><br>\\n      <br>\\n      <br>\\n      </font> <font face=\\\"Verdana, Arial, Helvetica, sans-serif\\\" size=\\\"3\\\"> <br>\\n      <br>\\n      </font></td>\\n    <td width=\\\"10\\\" bgcolor=\\\"#d4dfff\\\" valign=\\\"top\\\">&nbsp;</td>\\n    <td valign=\\\"top\\\" width=\\\"10\\\" bgcolor=\\\"#e2e2e2\\\">&nbsp;</td>\\n    <td valign=\\\"top\\\" bgcolor=\\\"#e2e2e2\\\"><font face=\\\"Verdana, Arial, Helvetica, sans-serif\\\" size=\\\"3\\\"><br>\\n      <font size=\\\"2\\\">Scan the following topics for <b><font color=\\\"#ff0000\\\">\\\"News You Can Use.\\\"</font></b></font></font><font size=\\\"2\\\"><font face=\\\"Verdana, Arial, Helvetica, sans-serif\\\"> \\n      </font></font> \\n      <ul>\\n        <font face=\\\"Verdana, Arial, Helvetica, sans-serif\\\" size=\\\"3\\\"> \\n        <li type=\\\"square\\\"><font size=\\\"2\\\"><A href=\\\"#here\\\">They're Here!</A><br></font> \\n        <li type=\\\"square\\\"><font size=\\\"2\\\"><A href=\\\"#check\\\">Check Out Our Q3 Promotions</A><br></font>\\n\\t\\t<li type=\\\"square\\\"><font size=\\\"2\\\"><A href=\\\"#guess\\\">Guess What's Coming to Distribution</A><br></font> \\n        <li type=\\\"square\\\"><font size=\\\"2\\\"><A href=\\\"#training\\\">Web-based Training Addition / We Have a Winner</A><br></font>\\n        <li type=\\\"square\\\"><font size=\\\"2\\\"><A href=\\\"#reseller\\\">Reseller Account Executive</A><br></font></li></font>\\n\\t\\t</ul>\\n    </td>\\n    <td width=\\\"10\\\" valign=\\\"top\\\" bgcolor=\\\"#e2e2e2\\\">&nbsp;</td>\\n  </tr>\\n</table>\\n<br>\\n<table width=\\\"598\\\" border=\\\"0\\\" cellspacing=\\\"0\\\" cellpadding=\\\"5\\\" align=\\\"center\\\" bgcolor=\\\"#000000\\\">\\n  <tr bgcolor=\\\"#e2e2e2\\\"> \\n    <td width=\\\"10\\\">&nbsp;</td>\\n    <td bgcolor=\\\"#e2e2e2\\\"><font face=\\\"Verdana, Arial, Helvetica, sans-serif\\\" size=\\\"3\\\"><b><a name=\\\"here\\\">They're Here!</a></b></font></td>\\n    <td width=\\\"10\\\">&nbsp;</td>\\n  </tr>\\n  <tr> \\n    <td width=\\\"10\\\" bgcolor=\\\"#ffffff\\\">&nbsp;</td>\\n    <td bgcolor=\\\"#ffffff\\\"><font face=\\\"Verdana, Arial, Helvetica, sans-serif\\\" size=\\\"3\\\">Canon's N1000 and N2000 innovative Office Color Printers are here!  Orders are now being taken for these ... Super High Speed ... Super High Quality ... Large Volume printers!  With super low operating costs and excellent durability, these printers provide the solution to your customers' business color needs.<br>\\n<br>Providing our resellers with the tools necessary to be successful in the marketplace is important to us.  In an effort to help you jump-start your N1000 printer sales, we are making available, on a first come first served basis, HALF-PRICE N1000 DEMO units.  For your convenience, these units can be purchased at  Ingram Micro, Tech Data or D&H.  There is a limit of one half-price unit per reseller - and supplies are limited - so order today!<br>\\n<br>To help you generate interest with your customers for the N1000/N2000, we have created a video banner ad that can be run on your website.  Log on to our  reseller website:  <a href=\\\"http://clickthru.online.com/Click?q=39-7QgMIjI6kxw3FhUCGLs-y39w-_lR\\\">http://www.canonresellers.com</a> to view the N1000/N2000 video banner ad.  You'll find the ad running on the Home Page.  To order a CD of this video banner ad for your use, contact your Canon Account Executive.\\n</font></td>\\n    <td width=\\\"10\\\" bgcolor=\\\"#ffffff\\\">&nbsp;</td>\\n  </tr>\\n</table>\\n<br>\\n<table width=\\\"598\\\" border=\\\"0\\\" cellspacing=\\\"0\\\" cellpadding=\\\"5\\\" align=\\\"center\\\" bgcolor=\\\"#000000\\\">\\n  <tr bgcolor=\\\"#e2e2e2\\\"> \\n    <td width=\\\"10\\\">&nbsp;</td>\\n    <td bgcolor=\\\"#e2e2e2\\\"><font face=\\\"Verdana, Arial, Helvetica, sans-serif\\\" size=\\\"3\\\"><b><a name=\\\"check\\\">Check Out Our Q3 Promotions</a></b></font></td>\\n    <td width=\\\"10\\\">&nbsp;</td>\\n  </tr>\\n</table>\\n<br>\\n<table width=\\\"598\\\" border=\\\"1\\\" cellspacing=\\\"0\\\" cellpadding=\\\"0\\\" align=\\\"center\\\">\\n  <tr bgcolor=\\\"#d4dfff\\\"> \\n    <td width=\\\"150\\\" bgcolor=\\\"#d4dfff\\\" align=\\\"left\\\">\\n      <div align=\\\"left\\\"><b><font face=\\\"Verdana, Arial, Helvetica, sans-serif\\\" size=\\\"2\\\">Product</font></b></div>\\n    </td>\\n    <td align=\\\"middle\\\" width=\\\"150\\\"><b><font face=\\\"Verdana, Arial, Helvetica, sans-serif\\\" size=\\\"2\\\">Instant Rebate*</font></b></td>\\n    <td align=\\\"middle\\\" width=\\\"127\\\"><b><font face=\\\"Verdana, Arial, Helvetica, sans-serif\\\" size=\\\"2\\\">Timeframe</font></b></td>\\n  </tr>\\n  <tr> \\n    <td width=\\\"150\\\"><font face=\\\"Verdana, Arial, Helvetica, sans-serif\\\" size=\\\"2\\\">imageCLASS 1100</font></td>\\n    <td align=\\\"middle\\\" width=\\\"150\\\"><font face=\\\"Verdana, Arial, Helvetica, sans-serif\\\" size=\\\"2\\\">$100</font></td>\\n    <td align=\\\"middle\\\" width=\\\"127\\\"><font face=\\\"Verdana, Arial, Helvetica, sans-serif\\\" size=\\\"2\\\">Through September 30, 2002</font></td>\\n  </tr>\\n</table>\\n<br>\\n<table width=\\\"598\\\" border=\\\"0\\\" cellspacing=\\\"0\\\" cellpadding=\\\"5\\\" align=\\\"center\\\" bgcolor=\\\"#000000\\\">\\n  <tr> \\n    <td width=\\\"10\\\" bgcolor=\\\"#ffffff\\\">&nbsp;</td>\\n    <td bgcolor=\\\"#ffffff\\\"><font face=\\\"Verdana, Arial, Helvetica, sans-serif\\\" size=\\\"3\\\">*All rebates will be reflected on the distributor invoice price <b><i>at the time of purchase</i></b>.<br>\\n      <br><b>Quarterly Performance/Growth Bonus</b><br>\\n      <br>It's a new quarter and a fresh opportunity to become a Canon Premier Partner.  Our quarterly growth goals are within reach!  Your purchases of all eligible hardware* between July 1, 2002 and September 30, 2002 work toward your Premier Partner status.  Following are the rebate categories:\\n      <br>\\n\\t  <br>\\n      $50,000-$99,000 = 4% rebate<br>\\n      $100,000+ = 6% rebate<br>\\n      <br>\\n      Claim forms for submitting your claims are available from your Canon reseller Account Executive and at <a href=\\\"http://clickthru.online.com/Click?q=4e-0Y95InZAScfHiaSIKlsTn8N_Jj9R\\\" target=\\\"_blank\\\">www.canonresellers.com</a>.<br>\\n      <br>\\n      <font size=\\\"2\\\">*Only hardware is eligible - DR-3060, DR-3080C, DR-5020, DR-5080C, DR-4580U, DR-4080U, N1000/N2000 Office Color Printers, imageCLASS 2200 and imageCLASS 1100.  CarePAKS, consumables, maintenance kits and media are not eligible.</font><br>\\n      <br>\\n      Click on  <a href=\\\"http://clickthru.online.com/Click?q=64-UBOhIuLfNZhIMQRNGWF8w6YrPhsR\\\" target=\\\"_blank\\\">www.canonresellers.com</a>, to find your tools for success! \\n      <br>\\n      </font></td>\\n    <td width=\\\"10\\\" bgcolor=\\\"#ffffff\\\">&nbsp;</td>\\n  </tr>\\n</table>\\n<br>\\n<br>\\n<table width=\\\"598\\\" border=\\\"0\\\" cellspacing=\\\"0\\\" cellpadding=\\\"5\\\" align=\\\"center\\\" bgcolor=\\\"#000000\\\">\\n  <tr bgcolor=\\\"#e2e2e2\\\"> \\n    <td width=\\\"10\\\">&nbsp;</td>\\n    <td bgcolor=\\\"#e2e2e2\\\"><font face=\\\"Verdana, Arial, Helvetica, sans-serif\\\" size=\\\"3\\\"><b><a name=\\\"guess\\\">Guess What's Coming to Distribution</a></b></font></td>\\n    <td width=\\\"10\\\">&nbsp;</td>\\n  </tr>\\n  <tr> \\n    <td width=\\\"10\\\" bgcolor=\\\"#ffffff\\\">&nbsp;</td>\\n    <td bgcolor=\\\"#ffffff\\\"><font face=\\\"Verdana, Arial, Helvetica, sans-serif\\\" size=\\\"3\\\">\\nHere's a clue:  Canon is known 'far and wide' for its products.  Coming soon&#151;at a distributor near you - we'll show you just how 'wide' our products can be.  Watch for another clue in our August newsletter!</font></td>\\n    <td width=\\\"10\\\" bgcolor=\\\"#ffffff\\\">&nbsp;</td>\\n  </tr>\\n</table>\\n<br>\\n<table width=\\\"598\\\" border=\\\"0\\\" cellspacing=\\\"0\\\" cellpadding=\\\"5\\\" align=\\\"center\\\">\\n  <tr bgcolor=\\\"#e2e2e2\\\"> \\n    <td width=\\\"10\\\">&nbsp;</td>\\n    <td colspan=\\\"2\\\"><font face=\\\"Verdana, Arial, Helvetica, sans-serif\\\" size=\\\"3\\\"><b><a name=\\\"training\\\">Web Based Training Addition / We Have a Winner</a></b></font></td>\\n    <td width=\\\"10\\\">&nbsp;</td>\\n  </tr>\\n  <tr>\\n    <td width=\\\"10\\\">&nbsp;</td>\\n    <td valign=\\\"top\\\"><font face=\\\"Verdana, Arial, Helvetica, sans-serif\\\" size=\\\"3\\\">As promised, we're about to launch another web training course.  Final touches are being made on Canon's <b>N1000/N2000</b> web training course.  This creative and informative course - covering topics that include  Features, Installation, Connectivity and Markets - is not to be missed.  Details to follow.<br>\\n      <br>\\n      We have a winner!  Congratulations to everyone who completed the imageCLASS 1100 web training before June 30!  The winning name was randomly selected from a 'hat' and we're pleased to announce the winner of the Canon PowerShot A20 digital camera works at one of our valued resellers in North Carolina!</font></td>\\n    <td align=\\\"right\\\" valign=\\\"middle\\\"><a href=\\\"http://clickthru.online.com/Click?q=79-rsQHIEBf9Lq-NyhmFz_e0CvgpaFR\\\"><img src=\\\"http://www.captureleads.com/canon/leadblasts/nlimages/simon_anim.gif\\\" width=\\\"173\\\" height=\\\"173\\\" border=\\\"0\\\"></a></td>\\n    <td width=\\\"10\\\">&nbsp;</td>\\n  </tr>\\n  <tr> \\n    <td width=\\\"10\\\">&nbsp;</td>\\n    <td valign=\\\"top\\\" colspan=\\\"2\\\"><font face=\\\"Verdana, Arial, Helvetica, sans-serif\\\" size=\\\"3\\\">Although the contest is over... the learning should not stop.  If you have not yet completed this informative imageCLASS 1100 training course, log on to <a href=\\\"http://clickthru.online.com/Click?q=8e-Ve-cQCn7KTQcIiTPDuYWD0V_Wy4R\\\" target=\\\"_blank\\\">http://www.canonresellers.com</a> right click on Simon and go to the training site. <br>\\n        <br>\\n      </font></td>\\n    <td width=\\\"10\\\">&nbsp;</td>\\n  </tr>\\n</table>\\n<br>\\n\\n<table width=\\\"598\\\" border=\\\"0\\\" cellspacing=\\\"0\\\" cellpadding=\\\"5\\\" align=\\\"center\\\">\\n  <tr> \\n    <td width=\\\"10\\\" bgcolor=\\\"#e2e2e2\\\">&nbsp;</td>\\n    <td colspan=\\\"2\\\" bgcolor=\\\"#e2e2e2\\\"><b><font face=\\\"Verdana, Arial, Helvetica, sans-serif\\\"><a name=\\\"reseller\\\">Reseller Account Executive&#151;Contact Changes</a></font></b></td>\\n    <td width=\\\"10\\\" bgcolor=\\\"#e2e2e2\\\">&nbsp;</td>\\n  </tr>\\n  <tr> \\n    <td width=\\\"10\\\">&nbsp;</td>\\n    <td colspan=\\\"2\\\"><font face=\\\"Verdana, Arial, Helvetica, sans-serif\\\">Canon has a dedicated team of Account Executives whose mission is to work with you to achieve our mutual business goals.<br>\\n      <br>\\n      Check the list below and note the name and e-mail address of the Account Executive assigned to your state.  Be sure to contact your Account Executive for support with the following:\\n</font></td>\\n    <td width=\\\"10\\\">&nbsp;</td>\\n  </tr>\\n  <tr> \\n    <td width=\\\"10\\\">&nbsp;</td>\\n    <td valign=\\\"top\\\"> \\n      <ul>\\n        <font face=\\\"Verdana, Arial, Helvetica, sans-serif\\\" size=\\\"3\\\"> \\n        <li type=\\\"square\\\">N1000/N2000 Video Banner Ad<br>\\n        <li type=\\\"square\\\">Events (Open Houses/Shows)<br>\\n\\t\\t<li type=\\\"square\\\">Sales Support Collateral<br>\\n\\t\\t<li type=\\\"square\\\">Discounted Demo Units<br>\\n</li></font> \\n      </ul>\\n    </td>\\n    <td valign=\\\"top\\\"> \\n      <ul><font face=\\\"Verdana, Arial, Helvetica, sans-serif\\\" size=\\\"3\\\">\\n        <li type=\\\"square\\\">End User Sales Calls<br>\\n\\t\\t<li type=\\\"square\\\">Demand Generation<br>\\n\\t\\t<li type=\\\"square\\\">Product Training<br>\\n\\t\\t<li type=\\\"square\\\">Bids<br>\\n        </LI></font>\\n      </ul>\\n    </td>\\n    <td width=\\\"10\\\">&nbsp;</td>\\n  </tr>\\n  <tr> \\n    <td width=\\\"10\\\">&nbsp;</td>\\n    <td colspan=\\\"2\\\"><font face=\\\"Verdana, Arial, Helvetica, sans-serif\\\" size=\\\"3\\\">Account \\n\\t\\tExecutives are listed below with the states that they cover.<br>\\n      </font></td>\\n    <td width=\\\"10\\\">&nbsp;</td>\\n  </tr>\\n</table>\\n<br>\\n<table width=\\\"598\\\" border=\\\"0\\\" cellspacing=\\\"0\\\" cellpadding=\\\"0\\\" align=\\\"center\\\">\\n  <tr> \\n    <td width=\\\"10\\\">&nbsp;</td>\\n    <td valign=\\\"top\\\" bgcolor=\\\"#d4dfff\\\"><b><font size=\\\"2\\\" face=\\\"Verdana, Arial, Helvetica, sans-serif\\\">Northeast</font></b></td>\\n    <td valign=\\\"top\\\" bgcolor=\\\"#d4dfff\\\"><b><font size=\\\"2\\\" face=\\\"Verdana, Arial, Helvetica, sans-serif\\\">John \\n      Brogan </font></b></td>\\n    <td valign=\\\"top\\\" colspan=\\\"2\\\" bgcolor=\\\"#d4dfff\\\"><b><font size=\\\"2\\\" face=\\\"Verdana, Arial, Helvetica, sans-serif\\\"><A href=\\\"mailto:jbrogan@cusa.canon.com\\\" >(jbrogan@cusa.canon.com)</A></font></b></td>\\n    <td width=\\\"10\\\">&nbsp;</td>\\n  </tr>\\n  <tr> \\n    <td width=\\\"10\\\">&nbsp;</td>\\n    <td valign=\\\"top\\\"><font size=\\\"2\\\" face=\\\"Verdana, Arial, Helvetica, sans-serif\\\">Connecticut</font></td>\\n    <td valign=\\\"top\\\"><font size=\\\"2\\\" face=\\\"Verdana, Arial, Helvetica, sans-serif\\\">Maine </font></td>\\n    <td valign=\\\"top\\\"><font size=\\\"2\\\" face=\\\"Verdana, Arial, Helvetica, sans-serif\\\">New Hampshire</font></td>\\n    <td valign=\\\"top\\\"><font size=\\\"2\\\" face=\\\"Verdana, Arial, Helvetica, sans-serif\\\">Rhode Island</font></td>\\n    <td width=\\\"10\\\">&nbsp;</td>\\n  </tr>\\n  <tr> \\n    <td width=\\\"10\\\">&nbsp;</td>\\n    <td valign=\\\"top\\\"><font size=\\\"2\\\" face=\\\"Verdana, Arial, Helvetica, sans-serif\\\">Massachusetts</font></td>\\n    <td valign=\\\"top\\\"><font size=\\\"2\\\" face=\\\"Verdana, Arial, Helvetica, sans-serif\\\">New York</font></td>\\n    <td valign=\\\"top\\\"><font size=\\\"2\\\" face=\\\"Verdana, Arial, Helvetica, sans-serif\\\">New Jersey</font></td>\\n    <td valign=\\\"top\\\"><font size=\\\"2\\\" face=\\\"Verdana, Arial, Helvetica, sans-serif\\\">Vermont</font></td>\\n    <td width=\\\"10\\\">&nbsp;</td>\\n  </tr>\\n  <tr> \\n    <td width=\\\"10\\\">&nbsp;</td>\\n    <td valign=\\\"top\\\"><font size=\\\"2\\\" face=\\\"Verdana, Arial, Helvetica, sans-serif\\\"></font></td>\\n    <td valign=\\\"top\\\"><font size=\\\"2\\\" face=\\\"Verdana, Arial, Helvetica, sans-serif\\\"></font></td>\\n    <td valign=\\\"top\\\"><font size=\\\"2\\\" face=\\\"Verdana, Arial, Helvetica, sans-serif\\\"></font></td>\\n    <td valign=\\\"top\\\"><font size=\\\"2\\\" face=\\\"Verdana, Arial, Helvetica, sans-serif\\\"></font></td>\\n    <td width=\\\"10\\\">&nbsp;</td>\\n  </tr>\\n  <tr> \\n    <td width=\\\"10\\\">&nbsp;</td>\\n    <td valign=\\\"top\\\" bgcolor=\\\"#d4dfff\\\"><b><font size=\\\"2\\\" face=\\\"Verdana, Arial, Helvetica, sans-serif\\\">Mid Atlantic</font></b></td>\\n    <td valign=\\\"top\\\" bgcolor=\\\"#d4dfff\\\"><b><font size=\\\"2\\\" face=\\\"Verdana, Arial, Helvetica, sans-serif\\\">Greg Harzenski</font></b></td>\\n    <td valign=\\\"top\\\" colspan=\\\"2\\\" bgcolor=\\\"#d4dfff\\\"><b><font size=\\\"2\\\" face=\\\"Verdana, Arial, Helvetica, sans-serif\\\"><A href=\\\"mailto:gharzenski@cusa.canon.com\\\" >(gharzenski@cusa.canon.com)</A></font></b></td>\\n    <td width=\\\"10\\\">&nbsp;</td>\\n  </tr>\\n  <tr>\\n    <td width=\\\"10\\\">&nbsp;</td>\\n    <td valign=\\\"top\\\"><font size=\\\"2\\\" face=\\\"Verdana, Arial, Helvetica, sans-serif\\\">Delaware</font></td>\\n    <td valign=\\\"top\\\"><font size=\\\"2\\\" face=\\\"Verdana, Arial, Helvetica, sans-serif\\\">Maryland</font></td>\\n    <td valign=\\\"top\\\"><font size=\\\"2\\\" face=\\\"Verdana, Arial, Helvetica, sans-serif\\\">Washington D.C.</font></td>\\n    <td valign=\\\"top\\\">&nbsp;</td>\\n    <td width=\\\"10\\\">&nbsp;</td>\\n  </tr>\\n  <tr> \\n    <td width=\\\"10\\\">&nbsp;</td>\\n    <td valign=\\\"top\\\"><font size=\\\"2\\\" face=\\\"Verdana, Arial, Helvetica, sans-serif\\\"></font></td>\\n    <td valign=\\\"top\\\"><font size=\\\"2\\\" face=\\\"Verdana, Arial, Helvetica, sans-serif\\\"></font></td>\\n    <td valign=\\\"top\\\"><font size=\\\"2\\\" face=\\\"Verdana, Arial, Helvetica, sans-serif\\\"></font></td>\\n    <td valign=\\\"top\\\"><font size=\\\"2\\\" face=\\\"Verdana, Arial, Helvetica, sans-serif\\\"></font></td>\\n    <td width=\\\"10\\\">&nbsp;</td>\\n  </tr>\\n  <tr> \\n    <td width=\\\"10\\\">&nbsp;</td>\\n    <td valign=\\\"top\\\" bgcolor=\\\"#d4dfff\\\"><b><font size=\\\"2\\\" face=\\\"Verdana, Arial, Helvetica, sans-serif\\\">Midwest</font></b></td>\\n    <td valign=\\\"top\\\" bgcolor=\\\"#d4dfff\\\"><b><font size=\\\"2\\\" face=\\\"Verdana, Arial, Helvetica, sans-serif\\\">Jennifer Mickeletto </font></b></td>\\n    <td valign=\\\"top\\\" colspan=\\\"2\\\" bgcolor=\\\"#d4dfff\\\"><b><font size=\\\"2\\\" face=\\\"Verdana, Arial, Helvetica, sans-serif\\\"><A href=\\\"mailto:zzzickeletto@cusa.canon.com\\\" >(zzzickeletto@cusa.canon.com)</A></font></b></td>\\n    <td width=\\\"10\\\">&nbsp;</td>\\n  </tr>\\n  <tr> \\n    <td width=\\\"10\\\">&nbsp;</td>\\n    <td valign=\\\"top\\\"><font size=\\\"2\\\" face=\\\"Verdana, Arial, Helvetica, sans-serif\\\">Indiana</font></td>\\n    <td valign=\\\"top\\\"><font size=\\\"2\\\" face=\\\"Verdana, Arial, Helvetica, sans-serif\\\">Kansas</font></td>\\n    <td valign=\\\"top\\\"><font size=\\\"2\\\" face=\\\"Verdana, Arial, Helvetica, sans-serif\\\">Missouri</font></td>\\n    <td valign=\\\"top\\\"><font size=\\\"2\\\" face=\\\"Verdana, Arial, Helvetica, sans-serif\\\">Ohio</font></td>\\n    <td width=\\\"10\\\">&nbsp;</td>\\n  </tr>\\n  <tr>\\n    <td width=\\\"10\\\">&nbsp;</td>\\n    <td valign=\\\"top\\\"><font size=\\\"2\\\" face=\\\"Verdana, Arial, Helvetica, sans-serif\\\">Colorado</font></td>\\n    <td valign=\\\"top\\\"><font size=\\\"2\\\" face=\\\"Verdana, Arial, Helvetica, sans-serif\\\">Kentucky</font></td>\\n    <td valign=\\\"top\\\"><font size=\\\"2\\\" face=\\\"Verdana, Arial, Helvetica, sans-serif\\\">Nebraska</font></td>\\n    <td valign=\\\"top\\\"><font size=\\\"2\\\" face=\\\"Verdana, Arial, Helvetica, sans-serif\\\">Tennessee</font></td>\\n    <td width=\\\"10\\\">&nbsp;</td>\\n  </tr>\\n  <tr> \\n    <td width=\\\"10\\\">&nbsp;</td>\\n    <td valign=\\\"top\\\"><font size=\\\"2\\\" face=\\\"Verdana, Arial, Helvetica, sans-serif\\\"></font></td>\\n    <td valign=\\\"top\\\"><font size=\\\"2\\\" face=\\\"Verdana, Arial, Helvetica, sans-serif\\\"></font></td>\\n    <td valign=\\\"top\\\"><font size=\\\"2\\\" face=\\\"Verdana, Arial, Helvetica, sans-serif\\\"></font></td>\\n    <td valign=\\\"top\\\"><font size=\\\"2\\\" face=\\\"Verdana, Arial, Helvetica, sans-serif\\\"></font></td>\\n    <td width=\\\"10\\\">&nbsp;</td>\\n  </tr>\\n  <tr> \\n    <td width=\\\"10\\\">&nbsp;</td>\\n    <td valign=\\\"top\\\" bgcolor=\\\"#d4dfff\\\"><b><font size=\\\"2\\\" face=\\\"Verdana, Arial, Helvetica, sans-serif\\\">Mid North</font></b></td>\\n    <td valign=\\\"top\\\" bgcolor=\\\"#d4dfff\\\"><b><font size=\\\"2\\\" face=\\\"Verdana, Arial, Helvetica, sans-serif\\\">Chad Crump</font></b></td>\\n    <td valign=\\\"top\\\" colspan=\\\"2\\\" bgcolor=\\\"#d4dfff\\\"><b><font size=\\\"2\\\" face=\\\"Verdana, Arial, Helvetica, sans-serif\\\"><A href=\\\"mailto:ccrump@cusa.canon.com\\\" >(ccrump@cusa.canon.com)</A></font></b></td>\\n    <td width=\\\"10\\\">&nbsp;</td>\\n  </tr>\\n  <tr> \\n    <td width=\\\"10\\\">&nbsp;</td>\\n    <td valign=\\\"top\\\"><font size=\\\"2\\\" face=\\\"Verdana, Arial, Helvetica, sans-serif\\\">Alaska</font></td>\\n    <td valign=\\\"top\\\"><font size=\\\"2\\\" face=\\\"Verdana, Arial, Helvetica, sans-serif\\\">Illinois</font></td>\\n    <td valign=\\\"top\\\"><font size=\\\"2\\\" face=\\\"Verdana, Arial, Helvetica, sans-serif\\\">Minnesota</font></td>\\n    <td valign=\\\"top\\\"><font size=\\\"2\\\" face=\\\"Verdana, Arial, Helvetica, sans-serif\\\">Washington</font></td>\\n    <td width=\\\"10\\\">&nbsp;</td>\\n  </tr>\\n  <tr> \\n    <td width=\\\"10\\\">&nbsp;</td>\\n    <td valign=\\\"top\\\"><font size=\\\"2\\\" face=\\\"Verdana, Arial, Helvetica, sans-serif\\\">Idaho</font></td>\\n    <td valign=\\\"top\\\"><font size=\\\"2\\\" face=\\\"Verdana, Arial, Helvetica, sans-serif\\\">Montana</font></td>\\n    <td valign=\\\"top\\\"><font size=\\\"2\\\" face=\\\"Verdana, Arial, Helvetica, sans-serif\\\">North Dakota</font></td>\\n    <td valign=\\\"top\\\"><font size=\\\"2\\\" face=\\\"Verdana, Arial, Helvetica, sans-serif\\\">Wisconsin</font></td>\\n    <td width=\\\"10\\\">&nbsp;</td>\\n  </tr>\\n  <tr> \\n    <td width=\\\"10\\\">&nbsp;</td>\\n    <td valign=\\\"top\\\"><font size=\\\"2\\\" face=\\\"Verdana, Arial, Helvetica, sans-serif\\\">Iowa</font></td>\\n    <td valign=\\\"top\\\"><font size=\\\"2\\\" face=\\\"Verdana, Arial, Helvetica, sans-serif\\\">Michigan</font></td>\\n    <td valign=\\\"top\\\"><font size=\\\"2\\\" face=\\\"Verdana, Arial, Helvetica, sans-serif\\\">South Dakota</font></td>\\n    <td valign=\\\"top\\\"><font size=\\\"2\\\" face=\\\"Verdana, Arial, Helvetica, sans-serif\\\">Wyoming</font></td>\\n    <td width=\\\"10\\\">&nbsp;</td>\\n  </tr>\\n  <tr> \\n    <td width=\\\"10\\\">&nbsp;</td>\\n    <td valign=\\\"top\\\"><font size=\\\"2\\\" face=\\\"Verdana, Arial, Helvetica, sans-serif\\\"></font></td>\\n    <td valign=\\\"top\\\"><font size=\\\"2\\\" face=\\\"Verdana, Arial, Helvetica, sans-serif\\\"></font></td>\\n    <td valign=\\\"top\\\"><font size=\\\"2\\\" face=\\\"Verdana, Arial, Helvetica, sans-serif\\\"></font></td>\\n    <td valign=\\\"top\\\">&nbsp;</td>\\n    <td width=\\\"10\\\">&nbsp;</td>\\n  </tr>\\n  <tr> \\n    <td width=\\\"10\\\">&nbsp;</td>\\n    <td valign=\\\"top\\\" bgcolor=\\\"#d4dfff\\\"><b><font size=\\\"2\\\" face=\\\"Verdana, Arial, Helvetica, sans-serif\\\">South</font></b></td>\\n    <td valign=\\\"top\\\" bgcolor=\\\"#d4dfff\\\"><b><font size=\\\"2\\\" face=\\\"Verdana, Arial, Helvetica, sans-serif\\\">Randal Kendrix </font></b></td>\\n    <td valign=\\\"top\\\" colspan=\\\"2\\\" bgcolor=\\\"#d4dfff\\\"><b><font size=\\\"2\\\" face=\\\"Verdana, Arial, Helvetica, sans-serif\\\"><A href=\\\"mailto:rkendrix@cusa.canon.com\\\" >(rkendrix@cusa.canon.com)</A></font></b></td>\\n    <td width=\\\"10\\\">&nbsp;</td>\\n  </tr>\\n  <tr> \\n    <td width=\\\"10\\\">&nbsp;</td>\\n    <td valign=\\\"top\\\"><font size=\\\"2\\\" face=\\\"Verdana, Arial, Helvetica, sans-serif\\\">Arkansas</font></td>\\n    <td valign=\\\"top\\\"><font size=\\\"2\\\" face=\\\"Verdana, Arial, Helvetica, sans-serif\\\">Mississippi</font></td>\\n    <td valign=\\\"top\\\"><font size=\\\"2\\\" face=\\\"Verdana, Arial, Helvetica, sans-serif\\\">Oklahoma</font></td>\\n    <td valign=\\\"top\\\"><font size=\\\"2\\\" face=\\\"Verdana, Arial, Helvetica, sans-serif\\\">Utah</font></td>\\n    <td width=\\\"10\\\">&nbsp;</td>\\n  </tr>\\n  <tr> \\n    <td width=\\\"10\\\">&nbsp;</td>\\n    <td valign=\\\"top\\\"><font size=\\\"2\\\" face=\\\"Verdana, Arial, Helvetica, sans-serif\\\">Louisiana</font></td>\\n    <td valign=\\\"top\\\"><font size=\\\"2\\\" face=\\\"Verdana, Arial, Helvetica, sans-serif\\\">New Mexico</font></td>\\n    <td valign=\\\"top\\\"><font size=\\\"2\\\" face=\\\"Verdana, Arial, Helvetica, sans-serif\\\">Texas</font></td>\\n    <td valign=\\\"top\\\">&nbsp;</td>\\n    <td width=\\\"10\\\">&nbsp;</td>\\n  </tr>\\n  <tr> \\n    <td width=\\\"10\\\">&nbsp;</td>\\n    <td valign=\\\"top\\\"><font size=\\\"2\\\" face=\\\"Verdana, Arial, Helvetica, sans-serif\\\"></font></td>\\n    <td valign=\\\"top\\\"><font size=\\\"2\\\" face=\\\"Verdana, Arial, Helvetica, sans-serif\\\"></font></td>\\n    <td valign=\\\"top\\\"><font size=\\\"2\\\" face=\\\"Verdana, Arial, Helvetica, sans-serif\\\"></font></td>\\n    <td valign=\\\"top\\\"><font size=\\\"2\\\" face=\\\"Verdana, Arial, Helvetica, sans-serif\\\"></font></td>\\n    <td width=\\\"10\\\">&nbsp;</td>\\n  </tr>\\n  <tr> \\n    <td width=\\\"10\\\">&nbsp;</td>\\n    <td valign=\\\"top\\\" bgcolor=\\\"#d4dfff\\\"><b><font size=\\\"2\\\" face=\\\"Verdana, Arial, Helvetica, sans-serif\\\">Southeast</font></b></td>\\n    <td valign=\\\"top\\\" bgcolor=\\\"#d4dfff\\\"><b><font size=\\\"2\\\" face=\\\"Verdana, Arial, Helvetica, sans-serif\\\">Carmen DiMartino </font></b></td>\\n    <td valign=\\\"top\\\" colspan=\\\"2\\\" bgcolor=\\\"#d4dfff\\\"><b><font size=\\\"2\\\" face=\\\"Verdana, Arial, Helvetica, sans-serif\\\"><A href=\\\"mailto:cdimartino@cusa.canon.com\\\" >(cdimartino@cusa.canon.com)</A> \\n      </font></b></td>\\n    <td width=\\\"10\\\">&nbsp;</td>\\n  </tr>\\n  <tr> \\n    <td width=\\\"10\\\">&nbsp;</td>\\n    <td valign=\\\"top\\\"><font size=\\\"2\\\" face=\\\"Verdana, Arial, Helvetica, sans-serif\\\">Alabama</font></td>\\n    <td valign=\\\"top\\\"><font size=\\\"2\\\" face=\\\"Verdana, Arial, Helvetica, sans-serif\\\">North Carolina</font></td>\\n    <td valign=\\\"top\\\"><font size=\\\"2\\\" face=\\\"Verdana, Arial, Helvetica, sans-serif\\\">Puerto Rico</font></td>\\n    <td valign=\\\"top\\\"><font size=\\\"2\\\" face=\\\"Verdana, Arial, Helvetica, sans-serif\\\">West Virginia</font></td>\\n    <td width=\\\"10\\\">&nbsp;</td>\\n  </tr>\\n  <tr>\\n    <td width=\\\"10\\\">&nbsp;</td>\\n    <td valign=\\\"top\\\"><font size=\\\"2\\\" face=\\\"Verdana, Arial, Helvetica, sans-serif\\\">Florida</font></td>\\n    <td valign=\\\"top\\\"><font size=\\\"2\\\" face=\\\"Verdana, Arial, Helvetica, sans-serif\\\">South Carolina</font></td>\\n    <td valign=\\\"top\\\"><font size=\\\"2\\\" face=\\\"Verdana, Arial, Helvetica, sans-serif\\\">Virginia</font></td>\\n    <td valign=\\\"top\\\">&nbsp;</td>\\n    <td width=\\\"10\\\">&nbsp;</td>\\n  </tr>\\n  <tr> \\n    <td width=\\\"10\\\">&nbsp;</td>\\n    <td valign=\\\"top\\\"><font size=\\\"2\\\" face=\\\"Verdana, Arial, Helvetica, sans-serif\\\">Georgia</font></td>\\n    <td valign=\\\"top\\\"><font size=\\\"2\\\" face=\\\"Verdana, Arial, Helvetica, sans-serif\\\">Pennsylvania</font></td>\\n    <td valign=\\\"top\\\"><font size=\\\"2\\\" face=\\\"Verdana, Arial, Helvetica, sans-serif\\\">Virgin Islands</font></td>\\n    <td valign=\\\"top\\\"><font size=\\\"2\\\" face=\\\"Verdana, Arial, Helvetica, sans-serif\\\"></font></td>\\n    <td width=\\\"10\\\">&nbsp;</td>\\n  </tr>\\n  <tr> \\n    <td width=\\\"10\\\">&nbsp;</td>\\n    <td valign=\\\"top\\\"><font size=\\\"2\\\" face=\\\"Verdana, Arial, Helvetica, sans-serif\\\"></font></td>\\n    <td valign=\\\"top\\\"><font size=\\\"2\\\" face=\\\"Verdana, Arial, Helvetica, sans-serif\\\"></font></td>\\n    <td valign=\\\"top\\\"><font size=\\\"2\\\" face=\\\"Verdana, Arial, Helvetica, sans-serif\\\"></font></td>\\n    <td valign=\\\"top\\\"><font size=\\\"2\\\" face=\\\"Verdana, Arial, Helvetica, sans-serif\\\"></font></td>\\n    <td width=\\\"10\\\">&nbsp;</td>\\n  </tr>\\n  <tr> \\n    <td width=\\\"10\\\">&nbsp;</td>\\n    <td valign=\\\"top\\\" bgcolor=\\\"#d4dfff\\\"><b><font size=\\\"2\\\" face=\\\"Verdana, Arial, Helvetica, sans-serif\\\">Southwest</font></b></td>\\n    <td valign=\\\"top\\\" bgcolor=\\\"#d4dfff\\\"><b><font size=\\\"2\\\" face=\\\"Verdana, Arial, Helvetica, sans-serif\\\">Heath Tagtmeyer </font></b></td>\\n    <td valign=\\\"top\\\" colspan=\\\"2\\\" bgcolor=\\\"#d4dfff\\\"><b><font size=\\\"2\\\" face=\\\"Verdana, Arial, Helvetica, sans-serif\\\"><A href=\\\"mailto:htagtmeyer@cusa.canon.com\\\" >(htagtmeyer@cusa.canon.com)</A></font></b></td>\\n    <td width=\\\"10\\\">&nbsp;</td>\\n  </tr>\\n  <tr> \\n    <td width=\\\"10\\\">&nbsp;</td>\\n    <td valign=\\\"top\\\"><font size=\\\"2\\\" face=\\\"Verdana, Arial, Helvetica, sans-serif\\\">Arizona</font></td>\\n    <td valign=\\\"top\\\"><font size=\\\"2\\\" face=\\\"Verdana, Arial, Helvetica, sans-serif\\\">Hawaii</font></td>\\n    <td valign=\\\"top\\\"><font size=\\\"2\\\" face=\\\"Verdana, Arial, Helvetica, sans-serif\\\">Oregon</font></td>\\n    <td valign=\\\"top\\\"><font size=\\\"2\\\" face=\\\"Verdana, Arial, Helvetica, sans-serif\\\"></font></td>\\n    <td width=\\\"10\\\">&nbsp;</td>\\n  </tr>\\n  <tr> \\n    <td width=\\\"10\\\">&nbsp;</td>\\n    <td valign=\\\"top\\\"><font size=\\\"2\\\" face=\\\"Verdana, Arial, Helvetica, sans-serif\\\">California</font></td>\\n    <td valign=\\\"top\\\"><font size=\\\"2\\\" face=\\\"Verdana, Arial, Helvetica, sans-serif\\\">Nevada</font></td>\\n    <td valign=\\\"top\\\"><font size=\\\"2\\\" face=\\\"Verdana, Arial, Helvetica, sans-serif\\\"></font></td>\\n    <td valign=\\\"top\\\"><font size=\\\"2\\\" face=\\\"Verdana, Arial, Helvetica, sans-serif\\\"></font></td>\\n    <td width=\\\"10\\\">&nbsp;</td>\\n  </tr>\\n  <tr> \\n    <td width=\\\"10\\\">&nbsp;</td>\\n    <td valign=\\\"top\\\"><font size=\\\"2\\\" face=\\\"Verdana, Arial, Helvetica, sans-serif\\\"></font></td>\\n    <td valign=\\\"top\\\"><font size=\\\"2\\\" face=\\\"Verdana, Arial, Helvetica, sans-serif\\\"></font></td>\\n    <td valign=\\\"top\\\"><font size=\\\"2\\\" face=\\\"Verdana, Arial, Helvetica, sans-serif\\\"></font></td>\\n    <td valign=\\\"top\\\"><font size=\\\"2\\\" face=\\\"Verdana, Arial, Helvetica, sans-serif\\\"></font></td>\\n    <td width=\\\"10\\\">&nbsp;</td>\\n  </tr>\\n  <tr> \\n    <td width=\\\"10\\\">&nbsp;</td>\\n    <td valign=\\\"top\\\" colspan=\\\"4\\\"><font size=\\\"2\\\" face=\\\"Verdana, Arial, Helvetica, sans-serif\\\"><i>\\n    If you wish to opt out of receiving future e-mail blasts, please <a href=\\\"#\\\">click here</a>. If you would like additional recipients to receive our monthly communications, send additional names and e-mail addresses to <A href=\\\"mailto:canonresellers@cits.canon.com\\\">canonresellers@cits.canon.com</A>.\\n    </i></font>\\n    </td>\\n    <td width=\\\"10\\\">&nbsp;</td>\\n  </tr>\\n  <tr> \\n    <td width=\\\"10\\\">&nbsp;</td>\\n    <td valign=\\\"top\\\">&nbsp;</td>\\n    <td valign=\\\"top\\\">&nbsp;</td>\\n    <td valign=\\\"top\\\">&nbsp;</td>\\n    <td valign=\\\"top\\\">&nbsp;</td>\\n    <td width=\\\"10\\\">&nbsp;</td>\\n  </tr>\\n</table>\\n<br>\\n</body>\\n</html>\\n\\n\\n<!-- ### /promo content ### -->\\n</td>\\n<td width=\\\"1\\\"><img src=\\\"http://www.cnet.com/b.gif\\\" width=\\\"1\\\" height=\\\"1\\\"></td></tr>\\n</table>\\n\\n<!-- ### footer ### -->\\n<table width=\\\"624\\\" bgcolor=\\\"#000000\\\" cellpadding=\\\"0\\\" cellspacing=\\\"0\\\" border=\\\"0\\\">\\n<tr><td width=\\\"1\\\"><img src=\\\"http://www.cnet.com/b.gif\\\" width=\\\"1\\\" height=\\\"1\\\"></td>\\n<td width=\\\"10\\\" bgcolor=\\\"#ffcc00\\\"><img src=\\\"http://www.cnet.com/b.gif\\\" width=\\\"10\\\" height=\\\"1\\\"></td>\\n<td width=\\\"1\\\"><img src=\\\"http://www.cnet.com/b.gif\\\" width=\\\"1\\\" height=\\\"1\\\"></td>\\n<td width=\\\"599\\\" bgcolor=\\\"#cccccc\\\"><img src=\\\"http://www.cnet.com/b.gif\\\" width=\\\"1\\\" height=\\\"1\\\"></td>\\n<td width=\\\"1\\\"><img src=\\\"http://www.cnet.com/b.gif\\\" width=\\\"1\\\" height=\\\"1\\\"></td></tr>\\n</table>\\n<table width=\\\"624\\\" bgcolor=\\\"#eeeeee\\\" cellpadding=\\\"0\\\" cellspacing=\\\"0\\\" border=\\\"0\\\">\\n<tr><td width=\\\"1\\\" bgcolor=\\\"#000000\\\"><img src=\\\"http://www.cnet.com/b.gif\\\" width=\\\"1\\\" height=\\\"1\\\"></td>\\n<td width=\\\"10\\\" bgcolor=\\\"#ffcc00\\\"><img src=\\\"http://www.cnet.com/b.gif\\\" width=\\\"10\\\" height=\\\"1\\\"></td>\\n<td width=\\\"1\\\" bgcolor=\\\"#000000\\\"><img src=\\\"http://www.cnet.com/b.gif\\\" width=\\\"1\\\" height=\\\"1\\\"></td>\\n<td width=\\\"12\\\"><img src=\\\"http://www.cnet.com/b.gif\\\" width=\\\"12\\\" height=\\\"1\\\"></td>\\n<td width=\\\"575\\\"><img src=\\\"http://www.cnet.com/b.gif\\\" width=\\\"1\\\" height=\\\"10\\\"><br>\\n<a href='http://nl.com.com/servlet/url_login?email=qqqqqqqqqq-zdnet@spamassassin.taint.org'><img src=\\\"http://a.r.tv.com/cnet.1d/i/nl/ft.gif\\\" width=\\\"375\\\" height=\\\"18\\\" border=\\\"0\\\" alt=\\\"Sign up for more free newsletters from CNET!\\\"></a><br>\\n\\n<!-- subscription management -->\\n\\n<font face=\\\"ms sans serif, geneva\\\" size=\\\"-2\\\">\\nThe e-mail address for your subscription is&nbsp;qqqqqqqqqq-zdnet@spamassassin.taint.org<p>\\n\\n<A NOTRACK HREF=\\\"http://clickthru.online.com/Click?q=a5-DyfHrzZqSQXorbLmIMk61qDcw2kfasRR\\\">Unsubscribe</A>&nbsp|&nbsp<a href='http://nl.com.com/servlet/url_login?email=qqqqqqqqqq-zdnet@spamassassin.taint.org'>Manage My Subscriptions</a>\\n&nbsp;|&nbsp;<a href=\\\"http://www.cnet.com/subscription/0-16335-7-6770019.html\\\">FAQ</A>\\n&nbsp|&nbsp<a href=\\\"http://www.cnet.com/aboutcnet/0-13618.html?tag=ft\\\">Advertise</A><br></font>\\n\\n<!-- /subscription management-->\\n\\n</font><img src=\\\"http://www.zdnet.com/b.gif\\\" width=\\\"1\\\" height=\\\"8\\\"></td>\\n<td width=\\\"12\\\"><img src=\\\"http://www.cnet.com/b.gif\\\" width=\\\"12\\\" height=\\\"1\\\"></td>\\n<td width=\\\"1\\\" bgcolor=\\\"#000000\\\"><img src=\\\"http://www.cnet.com/b.gif\\\" width=\\\"1\\\" height=\\\"1\\\"></td></tr>\\n</table>\\n<table width=\\\"624\\\" bgcolor=\\\"#000000\\\" cellpadding=\\\"0\\\" cellspacing=\\\"0\\\" border=\\\"0\\\">\\n<tr><td width=\\\"1\\\"><img src=\\\"http://www.cnet.com/b.gif\\\" width=\\\"1\\\" height=\\\"1\\\"></td>\\n<td width=\\\"10\\\" bgcolor=\\\"#ffcc00\\\"><img src=\\\"http://www.cnet.com/b.gif\\\" width=\\\"10\\\" height=\\\"1\\\"></td>\\n<td width=\\\"601\\\"><img src=\\\"http://www.cnet.com/b.gif\\\" width=\\\"1\\\" height=\\\"1\\\"></td></tr>\\n</table>\\n<table width=\\\"624\\\" bgcolor=\\\"#ffcc00\\\" cellpadding=\\\"0\\\" cellspacing=\\\"0\\\" border=\\\"0\\\">\\n<tr><td width=\\\"1\\\" bgcolor=\\\"#000000\\\"><img src=\\\"http://www.cnet.com/b.gif\\\" width=\\\"1\\\" height=\\\"1\\\"></td>\\n<td width=\\\"10\\\"><img src=\\\"http://www.cnet.com/b.gif\\\" width=\\\"10\\\" height=\\\"1\\\"></td>\\n<td width=\\\"37\\\"><a href=\\\"http://www.cnet.com/frontdoor/0-1.html\\\"><img src=\\\"http://www.cnet.com/i/dp/smrb.gif\\\" width=\\\"37\\\" height=\\\"37\\\" border=\\\"0\\\"></a></td>\\n<td width=\\\"563\\\" nowrap><font face=\\\"arial, helvetica\\\" size=\\\"-1\\\">\\n<a href=\\\"http://shopper.cnet.com/shopping/0-1257.html\\\"><font color=\\\"#000000\\\">Price comparisons</font></a> | \\n<a href=\\\"http://computers.cnet.com/hardware/0-1016.html\\\"><font color=\\\"#000000\\\">Product reviews</font></a> | \\n<a href=\\\"http://news.cnet.com/\\\"><font color=\\\"#000000\\\">Tech news</font></a> |\\n<a href=\\\"http://download.cnet.com/downloads/0-10000.html\\\"><font color=\\\"#000000\\\">Downloads</font></a> | \\n<a href=\\\"http://www.cnet.com/sitemap/0-2253447.html\\\"><font color=\\\"#000000\\\">All CNET services</font></a>\\n</font></td>\\n<td width=\\\"1\\\" bgcolor=\\\"#000000\\\"><img src=\\\"http://www.cnet.com/b.gif\\\" width=\\\"1\\\" height=\\\"1\\\"></td></tr>\\n</table>\\n<table width=\\\"624\\\" cellpadding=\\\"0\\\" cellspacing=\\\"0\\\" border=\\\"0\\\">\\n<tr><td bgcolor=\\\"#000000\\\"><img src=\\\"http://www.cnet.com/b.gif\\\" width=\\\"1\\\" height=\\\"1\\\"></td></tr>\\n<tr><td height=\\\"25\\\"><font face=\\\"ms sans serif, geneva\\\" size=\\\"-2\\\"><tr:ad name=\\\"copyright\\\"/>\\n</a>.</font></td></tr>\\n</table>\\n<!-- ### /footer ### -->\\n\\n</body>\\n</html>\\n\\n\\n<IMG HEIGHT=1 WIDTH=1 SRC=\\\"http://clickthru.online.com/Click?q=ba-m-95-hpITW8NcktOu5LdlZB0PRRR\\\">\\n\\n\"\n        ],\n        \"semantic_type\": \"\",\n        \"description\": \"\"\n      }\n    },\n    {\n      \"column\": \"label\",\n      \"properties\": {\n        \"dtype\": \"number\",\n        \"std\": 0,\n        \"min\": 0,\n        \"max\": 1,\n        \"num_unique_values\": 2,\n        \"samples\": [\n          1,\n          0\n        ],\n        \"semantic_type\": \"\",\n        \"description\": \"\"\n      }\n    },\n    {\n      \"column\": \"clean_text\",\n      \"properties\": {\n        \"dtype\": \"string\",\n        \"num_unique_values\": 752,\n        \"samples\": [\n          \"from   thu sep 19 174938 2002\\nreturnpath \\ndeliveredto \\nreceived from localhost jalapeno 127001\\n\\tby zzzzasonorg postfix with esmtp id 87c5416f03\\n\\tfor  thu 19 sep 2002 174937 0100 ist\\nreceived from jalapeno 127001\\n\\tby localhost with imap fetchmail590\\n\\tfor  singledrop thu 19 sep 2002 174937 0100 ist\\nreceived from lughtuathaorg  19412514545 by\\n    dogmaslashnullorg 81168116 with esmtp id g8jgm4c27587 for\\n     thu 19 sep 2002 172204 0100\\nreceived from lughtuathaorg  127001 by\\n    lughtuathaorg 8123893 with esmtp id g8jgm5ft007785\\n    thu 19 sep 2002 172205 0100\\nreceived from teleport3azooglecom teleport3azooglecom\\n    661971706 by lughtuathaorg 8123893 with smtp id\\n    g8jglnfu007757 for  thu 19 sep 2002 172150 0100\\nreceived from azoogle by teleport3azooglecom with local azoogle 21\\n    id 93104291090346 for  thu 19 sep 2002 162148 gmt\\ncontenttype textplain charsetusascii\\ncontentdisposition inline\\ncontenttransferencoding 7bit\\nmimeversion 10\\nfrom you25 giftcard \\nreplyto you25 giftcard \\nto \\nmessageid \\nxinfo please report abuse of this service to \\nsubject ilugsocial claim your 25 kmart gift card\\nsender \\nerrorsto \\nxbeenthere \\nxmailmanversion 2011\\nprecedence bulk\\nlisthelp \\nlistpost \\nlistsubscribe \\n    \\nlistid irish linux users group social events \\nlistunsubscribe \\n    \\nlistarchive \\nxoriginaldate thu 19 sep 2002 162148 gmt\\ndate thu 19 sep 2002 162148 gmt\\n\\n1 claim your 25 kmart gift card\\n\\n\\n2 auto loans fast approvals for any credit\\n\\n\\n3 are you paying too much for auto insurance  find out\\n\\n\\nhave a wonderful day\\nprizemamacom\\n\\n\\n\\n\\n\\n\\n\\n\\n\\n\\nyou are receiving this email because you have optedin to receive\\nemail from publisher prizemama  to unsubscribe click below\\n\\n\\n \\nirish linux users group social events \\n for unsubscription information\\nlist maintainer \\n\\n\\n\",\n          \"from   mon sep 16 104415 2002\\nreturnpath \\ndeliveredto \\nreceived from localhost jalapeno 127001\\n\\tby zzzzasonorg postfix with esmtp id 0490216f03\\n\\tfor  mon 16 sep 2002 104414 0100 ist\\nreceived from jalapeno 127001\\n\\tby localhost with imap fetchmail590\\n\\tfor  singledrop mon 16 sep 2002 104414 0100 ist\\nreceived from vic 612303188hinetiphinetnet 612303188 by\\n    dogmaslashnullorg 81168116 with smtp id g8g5f0c14586 for\\n     mon 16 sep 2002 064102 0100\\ndate mon 16 sep 2002 064102 0100\\nreceived from mx by kstsseednettw with smtp id rul6sgxdwdz3kyj7w\\n    mon 14 sep 2015 134552 0800\\nmessageid \\nfrom \\nto  \\n\\t \\n\\t \\n\\t \\n\\t \\n\\t \\n\\t \\n\\t \\n\\t \\n\\t \\n\\t \\n\\t \\n\\t \\n\\t \\n\\t \\nsubject \\nmimeversion 10\\nxmailer rexfd0sumjvqyfjvbi\\nxpriority 3\\nxmsmailpriority normal\\ncontenttype multipartrelated typemultipartalternative boundarynextparteziysjcglfoiw4lk9mkbwobm5\\n\\nthis is a multipart message in mime format\\n\\nnextparteziysjcglfoiw4lk9mkbwobm5\\ncontenttype multipartalternative\\n\\tboundarynextparteziysjcglfoiw4lk9mkbwobm5aa\\n\\n\\nnextparteziysjcglfoiw4lk9mkbwobm5aa\\ncontenttype texthtml\\n\\tcharsetbig5\\ncontenttransferencoding base64\\n\\npgh0bwwdqoncjxozwfkpg0kpg1ldgegahr0cc1lcxvpdj0iq29udgvudc1myw5ndwfnzsigy29u\\ndgvudd0iemgtdhcipg0kpg1ldgegbmftzt0ir0vorvjbve9siibjb250zw50psjnawnyb3nvznqg\\nrnjvbnrqywdliduumcidqo8bwv0ysbuyw1lpsjqcm9nswqiignvbnrlbnq9ikzyb250ugfnzs5f\\nzgl0b3iurg9jdw1lbnqipg0kpg1ldgegahr0cc1lcxvpdj0iq29udgvudc1uexbliibjb250zw50\\npsj0zxh0l2h0bww7ignoyxjzzxq9ymlnnsidqo8dgl0bgus2st6llsfwl0bfnt368c6dppl2l\\ncavotwkxaq9sbwmxqtituyqa7g1pqwgyc8l3rpdgxlpg0kpc9ozwfkpg0kdqo8ym9ket4ncg0k\\nphagc3r5bgu9im1hcmdpbi10b3a6idbwedsgbwfyz2lulwjvdhrvbtogmhb4ij48zm9udcbjb2xv\\ncj0iizgwoda4mcidqqzb6xpqwwwvaxrsu23frxzp2mkvavxpu61b6tfqr2xtazeq0i1tkprsbwm\\nrcdl5ybice8l2zvbnqpc9wpg0kpghyifnjwku9ijeipg0kpgrpdibhbglnbj0iy2vudgvyij4n\\nciagpgnlbnrlcj4nciagphrhymxlihn0ewxlpsjib3jkzxi6idfwecbkb3r0zwqgi0zgmdawmdsg\\noybib3jkzxity29sbgfwc2u6y29sbgfwc2uiighlawdodd0imzy1iibjzwxsu3bhy2luzz0imcig\\ny2vsbfbhzgrpbmc9ijaiihdpzhropsi2mdqiigjvcmrlcj0imcigym9yzgvyy29sb3jsawdodd0i\\nizawodawmcigym9yzgvyy29sb3i9iimxmtexmteipg0kicagidx0cj4nciagicagidx0zcb2qwxp\\nz249imnlbnrlciigywxpz249im1pzgrszsigd2lkdgg9iju5ocigymddb2xvcj0ii0zgrkywmcig\\nagvpz2h0psiznjuipg0kicagicagphagywxpz249imnlbnrlciioua8l3adqogicagica8ccbh\\nbglnbj0iy2vudgvyij48zm9udcbmywnlpsk80leixekiihnpemu9ijqiignvbg9ypsijmdawmezg\\nij6mbqpcpm2w2ie8l2zvbnqpc9wpg0kicagicagphagywxpz249imnlbnrlciipgzvbnqgzmfj\\nzt0ivnc3osxpiibzaxplpsi0iibjb2xvcj0iizawmdbgriidqogicagicczxkzopeiv4krpqfom\\ns6txp0gmbiymxaywthi0pkrgrsm9zwvzm9udd48l3adqogicagica8ccbhbglnbj0iy2vudgvy\\nij48zm9udcbmywnlpsk80leixekiihnpemu9ijqiignvbg9ypsijmdawmezgij6p0qvipgq1b6dr\\npasss9c3fq1qtekspc9mb250pjwvcd4nciagicagidxwigfsawdupsjjzw50zxiipjxmb250igzh\\ny2u9irzqt6lf6sigc2l6zt0incigy29sb3i9iimwmdawrkyiprncpmg8l2zvbnqpgzvbnqgzmfj\\nzt0ivnc3osxpiibjb2xvcj0ii0zgmdawmcigc2l6zt0iniivve3fdwvzm9udd48zm9udcbmywnl\\npsk80leixekiihnpemu9ijqiignvbg9ypsijmdawmezgij6lbqr5rsksqbmpuav1pc9mb250pjxm\\nb250igzhy2u9irzqt6lf6sigy29sb3i9iingrjawrkyiihnpemu9ijyipqazm6ztxmehpc9mb250\\npjwvcd4nciagicagidxwigfsawdupsjjzw50zxiipjxmb250igzhy2u9irzqt6lf6sigc2l6zt0i\\nncigy29sb3i9iimwmdawrkyiprropl2ssczxdw90ozwvzm9udd48zm9udcbmywnlpsk80leixeki\\nignvbg9ypsijmdawmezgiibzaxplpsi1ij6ko6xmpn8mcxvvdds8l2zvbnqpgzvbnqgzmfjzt0i\\nvnc3osxpiibzaxplpsi0iibjb2xvcj0iizawmdbgriis3m0trncpmikskzis24zkaopvw8l2zv\\nbnqpc9wpg0kicagicagphagywxpz249imnlbnrlciipgzvbnqgzmfjzt0ivnc3osxpiibzaxpl\\npsi0iibjb2xvcj0iizawmdbgriis8yxtbdqrq5zraku7kybf6pc9mb250pjwvcd4nciagicag\\nidxwigfsawdupsjjzw50zxiipjxhighyzwy9imh0dha6ly92awmuadholmnvbs50dy8ipg0kicag\\nicagpgzvbnqgc2l6zt0iniigzmfjzt0ivnc3osxpiibjb2xvcj0ii0zgmdawmcimrhvpli26qra\\nrdokckbrwfoqurnapc9mb250pjwvyt48l3adqogicagica8ccbhbglnbj0iy2vudgvyij4ymkta\\nxmgs3cc0s2t0773t3wsp0g0tqxpptukdqq6puskscgvrlf6pm65qjwvcd4nciagicagidxwpjxm\\nb250ignvbg9ypsijzmywmgzmij48ysbocmvmpsjodhrwoi8vdmljlmg4ac5jb20udhcvij4nciag\\nicagigh0dha6ly92awmuadholmnvbs50dzwvyt48l2zvbnqphapgzvbnqgy29sb3i9iingrjaw\\nmdaipg0kicagicagphnwyw4gbgfuzz0izw4tdxmipjxmb250ihnpemu9ijcipnbzojwvzm9udd48\\nl3nwyw4t1g2aaraqekqvrlepncm86zirmg7tmnqpc669lj0wcikar6lkvppc9mb250pjxmb250\\nihnpemu9ijqiignvbg9ypsijmdawmezgij6ns7zpsimv7r0upsvu7bwpc9mb250pjxwpg0kicag\\nicagpgzvbnqgy29sb3i9iingrjawmdaipqzwqkesebzxuuywqqzdpkoo7l11pfe8dqt5lkvpr8go\\nqdltkz0ldpfq60dwvzm9udd48zm9udcbjb2xvcj0iizawmdbgriikl3qpmktuq22r2skvalt\\nple5cbjcpu2nfsk8l2zvbnqphaoua8cd4nciagicagikfaphaoua8cd6hqdwvdgqdqogicag\\npc90cj4nciagpc90ywjszt4nciagpc9jzw50zxidqo8l2rpdj4ncjxocibtsvpfpsixij4ncjxw\\nihn0ewxlpsjtyxjnaw4tdg9woiawchg7ig1hcmdpbi1ib3r0b206idbwecigywxpz249imnlbnrl\\nciidqo8zm9udcbjb2xvcj0ii2zmmdawmcipncms6w0wlq90kijvcyhqasjt1gmqaasqoymuati\\nvdcr9izuynnwoyatjmd0oyzuynnwoyaopgegahjlzj0iahr0cdovl3gtbwfpbc5oogguy29tlnr3\\niib0yxjnzxq9il9ibgfuayiqdqmrlxzp2k8l2ektwvzm9udd48l3adqoncjwvym9ket4ncg0k\\npc9odg1spg\\n\\n\\nnextparteziysjcglfoiw4lk9mkbwobm5aa\\nnextparteziysjcglfoiw4lk9mkbwobm5\\n\\n\\n\\n\\n\"\n        ],\n        \"semantic_type\": \"\",\n        \"description\": \"\"\n      }\n    }\n  ]\n}"
            }
          },
          "metadata": {},
          "execution_count": 84
        }
      ]
    },
    {
      "cell_type": "code",
      "source": [
        "# Hyperparameters\n",
        "max_words = 10000 # max number of words to use in the vocabulary\n",
        "max_len = 1000 # max length of each text (in terms of number of words)\n",
        "embedding_dim = 100 # dimension of word embeddings\n",
        "lstm_units = 64 # number of units in the LSTM layer\n",
        "num_classes = len(set(df['label'])) # number of classes\n",
        "print(num_classes)"
      ],
      "metadata": {
        "colab": {
          "base_uri": "https://localhost:8080/"
        },
        "id": "IuphMqJWweBZ",
        "outputId": "a4a24dc6-7622-47b5-c631-c38dff2b58b3"
      },
      "execution_count": 85,
      "outputs": [
        {
          "output_type": "stream",
          "name": "stdout",
          "text": [
            "2\n"
          ]
        }
      ]
    },
    {
      "cell_type": "code",
      "source": [
        "tokenizer = Tokenizer(num_words=max_words)\n",
        "tokenizer.fit_on_texts(df['clean_text'])\n",
        "sequences = tokenizer.texts_to_sequences(df['clean_text'])\n",
        "word_index = tokenizer.word_index\n",
        "print(f\"Found {len(word_index)} unique tokens.\")"
      ],
      "metadata": {
        "colab": {
          "base_uri": "https://localhost:8080/"
        },
        "id": "1sffhNyhweK1",
        "outputId": "76d054c9-c9e2-478d-a72b-6a6096c8681f"
      },
      "execution_count": 86,
      "outputs": [
        {
          "output_type": "stream",
          "name": "stdout",
          "text": [
            "Found 58577 unique tokens.\n"
          ]
        }
      ]
    },
    {
      "cell_type": "code",
      "source": [
        "X = pad_sequences(sequences, maxlen=max_len)\n",
        "y = df['label']\n",
        "print(y)\n",
        "y = to_categorical(y)\n",
        "print(y)"
      ],
      "metadata": {
        "colab": {
          "base_uri": "https://localhost:8080/"
        },
        "id": "7A4ZgulvweSa",
        "outputId": "3662a0c8-e70f-4c7c-d6c2-2590bbf9ee19"
      },
      "execution_count": 87,
      "outputs": [
        {
          "output_type": "stream",
          "name": "stdout",
          "text": [
            "0      0\n",
            "1      0\n",
            "2      1\n",
            "3      1\n",
            "4      1\n",
            "      ..\n",
            "747    1\n",
            "748    1\n",
            "749    1\n",
            "750    1\n",
            "751    1\n",
            "Name: label, Length: 752, dtype: int64\n",
            "[[1. 0.]\n",
            " [1. 0.]\n",
            " [0. 1.]\n",
            " ...\n",
            " [0. 1.]\n",
            " [0. 1.]\n",
            " [0. 1.]]\n"
          ]
        }
      ]
    },
    {
      "cell_type": "code",
      "source": [
        "# Build and train LSTM model\n",
        "model = Sequential()\n",
        "model.add(Embedding(max_words, embedding_dim))\n",
        "model.add(LSTM(lstm_units))\n",
        "model.add(Dense(num_classes, activation='softmax'))\n",
        "model.compile(loss='categorical_crossentropy', optimizer='adam', metrics=['accuracy'])\n",
        "model.fit(X, y, batch_size=32, epochs=10)"
      ],
      "metadata": {
        "colab": {
          "base_uri": "https://localhost:8080/"
        },
        "id": "wcZtSNSmxBQq",
        "outputId": "61ae2606-5389-40d6-e9d9-d0263899892a"
      },
      "execution_count": 88,
      "outputs": [
        {
          "output_type": "stream",
          "name": "stdout",
          "text": [
            "Epoch 1/10\n",
            "\u001b[1m24/24\u001b[0m \u001b[32m━━━━━━━━━━━━━━━━━━━━\u001b[0m\u001b[37m\u001b[0m \u001b[1m4s\u001b[0m 56ms/step - accuracy: 0.7507 - loss: 0.6255\n",
            "Epoch 2/10\n",
            "\u001b[1m24/24\u001b[0m \u001b[32m━━━━━━━━━━━━━━━━━━━━\u001b[0m\u001b[37m\u001b[0m \u001b[1m1s\u001b[0m 50ms/step - accuracy: 0.8934 - loss: 0.2548\n",
            "Epoch 3/10\n",
            "\u001b[1m24/24\u001b[0m \u001b[32m━━━━━━━━━━━━━━━━━━━━\u001b[0m\u001b[37m\u001b[0m \u001b[1m1s\u001b[0m 49ms/step - accuracy: 0.9873 - loss: 0.0501\n",
            "Epoch 4/10\n",
            "\u001b[1m24/24\u001b[0m \u001b[32m━━━━━━━━━━━━━━━━━━━━\u001b[0m\u001b[37m\u001b[0m \u001b[1m1s\u001b[0m 30ms/step - accuracy: 0.9991 - loss: 0.0124\n",
            "Epoch 5/10\n",
            "\u001b[1m24/24\u001b[0m \u001b[32m━━━━━━━━━━━━━━━━━━━━\u001b[0m\u001b[37m\u001b[0m \u001b[1m1s\u001b[0m 31ms/step - accuracy: 0.9946 - loss: 0.0138\n",
            "Epoch 6/10\n",
            "\u001b[1m24/24\u001b[0m \u001b[32m━━━━━━━━━━━━━━━━━━━━\u001b[0m\u001b[37m\u001b[0m \u001b[1m1s\u001b[0m 30ms/step - accuracy: 0.9968 - loss: 0.0199\n",
            "Epoch 7/10\n",
            "\u001b[1m24/24\u001b[0m \u001b[32m━━━━━━━━━━━━━━━━━━━━\u001b[0m\u001b[37m\u001b[0m \u001b[1m1s\u001b[0m 31ms/step - accuracy: 0.9993 - loss: 0.0115\n",
            "Epoch 8/10\n",
            "\u001b[1m24/24\u001b[0m \u001b[32m━━━━━━━━━━━━━━━━━━━━\u001b[0m\u001b[37m\u001b[0m \u001b[1m1s\u001b[0m 32ms/step - accuracy: 0.9997 - loss: 0.0035\n",
            "Epoch 9/10\n",
            "\u001b[1m24/24\u001b[0m \u001b[32m━━━━━━━━━━━━━━━━━━━━\u001b[0m\u001b[37m\u001b[0m \u001b[1m1s\u001b[0m 38ms/step - accuracy: 0.9965 - loss: 0.0168\n",
            "Epoch 10/10\n",
            "\u001b[1m24/24\u001b[0m \u001b[32m━━━━━━━━━━━━━━━━━━━━\u001b[0m\u001b[37m\u001b[0m \u001b[1m1s\u001b[0m 33ms/step - accuracy: 0.9958 - loss: 0.0134\n"
          ]
        },
        {
          "output_type": "execute_result",
          "data": {
            "text/plain": [
              "<keras.src.callbacks.history.History at 0x7c96803a6590>"
            ]
          },
          "metadata": {},
          "execution_count": 88
        }
      ]
    },
    {
      "cell_type": "code",
      "source": [
        "\n",
        "# Evaluate the model\n",
        "loss, accuracy = model.evaluate(X, y, verbose=0)\n",
        "print(f\"Loss: {loss:.4f}\")\n",
        "print(f\"Accuracy: {accuracy:.4f}\")\n"
      ],
      "metadata": {
        "colab": {
          "base_uri": "https://localhost:8080/"
        },
        "id": "ji88UILp8YFx",
        "outputId": "15eeaad6-5747-46a2-bc38-c8ba64787691"
      },
      "execution_count": 89,
      "outputs": [
        {
          "output_type": "stream",
          "name": "stdout",
          "text": [
            "Loss: 0.0051\n",
            "Accuracy: 0.9987\n"
          ]
        }
      ]
    },
    {
      "cell_type": "code",
      "source": [
        "def predict_email(text):\n",
        "  text = clean_text(text)\n",
        "  sequence = tokenizer.texts_to_sequences([text])\n",
        "  padded_sequence = pad_sequences(sequence, maxlen=max_len)\n",
        "  prediction = model.predict(padded_sequence)\n",
        "  predicted_class = np.argmax(prediction)\n",
        "  return\"Spam\" if predicted_class == 1 else \"Ham\""
      ],
      "metadata": {
        "id": "DQMWwtBghFsh"
      },
      "execution_count": 93,
      "outputs": []
    },
    {
      "cell_type": "code",
      "source": [
        "# prompt: test model\n",
        "\n",
        "import numpy as np\n",
        "\n",
        "# Example prediction (replace with your actual data)\n",
        "example_text =  \"\"\"Subject: Urgent Security Alert: Unusual Activity Detected on Your Account\n",
        "\n",
        "Dear Valued Customer,\n",
        "\n",
        "We have detected unusual activity on your account that requires your immediate attention. For your security, we have temporarily suspended certain features until you verify your account information.\n",
        "\n",
        "To restore full access, please click on the following link and follow the on-screen instructions:\n",
        "\n",
        "[MALICIOUS/FAKE LINK REMOVED - DO NOT INCLUDE A REAL LINK IN A PHISHING SIMULATION]\n",
        "\n",
        "**Please note:** Ignoring this notification may result in permanent account suspension.\n",
        "\n",
        "This is an automated message. Please do not reply directly to this email.\n",
        "\n",
        "Thank you for your cooperation.\n",
        "\n",
        "Sincerely,\n",
        "\n",
        "[Fake Company Name - e.g., \"Your Bank Security Team\", \"Online Service Support\"]\n",
        "\n",
        "**Why this is a phishing attempt:**\n",
        "\n",
        "* **Urgency:** Creates a sense of panic and encourages immediate action.\n",
        "* **Vague Language:** Mentions \"unusual activity\" without specific details.\n",
        "* **Suspension Threat:** Threatens negative consequences for inaction.\n",
        "* **Suspicious Link:** The provided link (if it were real in a malicious email) would likely lead to a fake login page designed to steal credentials.\n",
        "* **Generic Greeting:** Uses a general salutation like \"Dear Valued Customer.\"\n",
        "* **Automated Message Claim:** Discourages direct replies, which is typical of phishing emails.\n",
        "\n",
        "**Important Note for Testing AI Models:**\n",
        "\n",
        "When testing AI models for phishing detection, it's crucial to:\n",
        "\n",
        "* **Avoid using real links or personal information.**\n",
        "* **Clearly label the email as a \"phishing simulation\" or \"test email.\"**\n",
        "* **Focus on the linguistic cues and structural elements that are characteristic of phishing attacks.**\n",
        "\n",
        "This example is for educational and testing purposes only. Do not use this to attempt to deceive or harm anyone.\"\"\"\n",
        "\n",
        "print(predict_email(example_text))\n",
        "# Preprocess the example text\n",
        "example_text = clean_text(example_text) # Assuming clean_text function from your code is defined.\n",
        "example_sequence = tokenizer.texts_to_sequences([example_text])\n",
        "example_padded = pad_sequences(example_sequence, maxlen=max_len)\n",
        "\n",
        "# Make prediction\n",
        "prediction = model.predict(example_padded)\n",
        "predicted_class = np.argmax(prediction)\n",
        "\n",
        "# Print the prediction\n",
        "print(f\"Predicted class: {predicted_class}\")\n",
        "\n",
        "# Example prediction with probabilities:\n",
        "print(f\"Prediction probabilities: {prediction[0]}\")\n",
        "\n",
        "# Determine if spam or ham\n",
        "if predicted_class == 1:\n",
        "    print(\"The email is predicted to be spam.\")\n",
        "else:\n",
        "    print(\"The email is predicted to be ham (not spam).\")\n"
      ],
      "metadata": {
        "colab": {
          "base_uri": "https://localhost:8080/"
        },
        "id": "05gG1f036pW3",
        "outputId": "fbedb64a-e2e1-421b-fa78-c5b4e99fb772"
      },
      "execution_count": 94,
      "outputs": [
        {
          "output_type": "stream",
          "name": "stdout",
          "text": [
            "\u001b[1m1/1\u001b[0m \u001b[32m━━━━━━━━━━━━━━━━━━━━\u001b[0m\u001b[37m\u001b[0m \u001b[1m0s\u001b[0m 43ms/step\n",
            "Ham\n",
            "\u001b[1m1/1\u001b[0m \u001b[32m━━━━━━━━━━━━━━━━━━━━\u001b[0m\u001b[37m\u001b[0m \u001b[1m0s\u001b[0m 40ms/step\n",
            "Predicted class: 0\n",
            "Prediction probabilities: [0.9887714  0.01122863]\n",
            "The email is predicted to be ham (not spam).\n"
          ]
        }
      ]
    },
    {
      "cell_type": "code",
      "source": [
        "spam_email_string = \"\"\"Subject: 🎉 Congratulations! You've Won a Free Vacation! 🎉\n",
        "\n",
        "Dear [Random Name],\n",
        "\n",
        "You've been randomly selected as our lucky winner for an all-expenses-paid vacation for two to your dream destination! Imagine relaxing on sunny beaches, exploring exotic cultures, or enjoying thrilling adventures - all absolutely FREE!\n",
        "\n",
        "To claim your prize, simply click the link below and enter your details:\n",
        "\n",
        "[SUSPICIOUS/FAKE LINK REMOVED - DO NOT INCLUDE A REAL LINK IN A SPAM SIMULATION]\n",
        "\n",
        "This is a limited-time offer, so don't miss out on this incredible opportunity! Claim your free vacation today!\n",
        "\n",
        "Best regards,\n",
        "\n",
        "The [Fake Company Name - e.g., \"Travel Rewards Center\", \"Global Getaways\"] Team\n",
        "\n",
        "P.S. Share this amazing news with your friends and family!\n",
        "\n",
        "**Why this is likely spam:**\n",
        "\n",
        "* **Unsolicited Offer:** You likely didn't enter any contest or sign up for this.\n",
        "* **Too Good to Be True:** Free vacations are rarely given away without strings attached.\n",
        "* **Generic Greeting:** Uses a vague salutation like \"Dear [Random Name].\"\n",
        "* **Sense of Urgency:** Encourages immediate action with \"limited-time offer.\"\n",
        "* **Suspicious Link:** The provided link (if real in a spam email) could lead to a website asking for personal information or installing malware.\n",
        "* **Poor Grammar/Typos (Often Present but not explicitly included here for clarity):** Spam emails sometimes contain grammatical errors.\n",
        "* **Unfamiliar Sender:** You likely don't recognize the sender or the company.\n",
        "\n",
        "**Important Note for Testing AI Models:**\n",
        "\n",
        "When testing AI models for spam detection, it's crucial to:\n",
        "\n",
        "* **Avoid using real links or personal information.**\n",
        "* **Clearly label the email as a \"spam simulation\" or \"test email.\"**\n",
        "* **Focus on the linguistic cues and structural elements that are characteristic of spam emails, such as exaggerated claims, unsolicited offers, and pressure to act quickly.**\n",
        "\n",
        "This example is for educational and testing purposes only. Do not use this to send unsolicited emails to others.\"\"\"\n",
        "\n",
        "\n",
        "print(predict_email(spam_email_string))"
      ],
      "metadata": {
        "colab": {
          "base_uri": "https://localhost:8080/"
        },
        "id": "5DyYi7HTg_eu",
        "outputId": "f55eb230-0a60-4cbf-be69-eb9273fbe759"
      },
      "execution_count": 95,
      "outputs": [
        {
          "output_type": "stream",
          "name": "stdout",
          "text": [
            "\u001b[1m1/1\u001b[0m \u001b[32m━━━━━━━━━━━━━━━━━━━━\u001b[0m\u001b[37m\u001b[0m \u001b[1m0s\u001b[0m 41ms/step\n",
            "Spam\n"
          ]
        }
      ]
    },
    {
      "cell_type": "code",
      "source": [
        "import joblib\n",
        "joblib.dump(model, \"phishing_model.pkl\")\n",
        "joblib.dump(tokenizer, \"tokenizer.pkl\")"
      ],
      "metadata": {
        "colab": {
          "base_uri": "https://localhost:8080/"
        },
        "id": "XnPcG6uakh-z",
        "outputId": "9c5156f0-d529-4676-b3cf-6e97510a0024"
      },
      "execution_count": 101,
      "outputs": [
        {
          "output_type": "execute_result",
          "data": {
            "text/plain": [
              "['tokenizer.pkl']"
            ]
          },
          "metadata": {},
          "execution_count": 101
        }
      ]
    },
    {
      "cell_type": "code",
      "source": [
        "model = joblib.load(\"phishing_model.pkl\")\n",
        "tokenizer = joblib.load(\"tokenizer.pkl\")"
      ],
      "metadata": {
        "id": "QDjNMvZWlAT7"
      },
      "execution_count": 102,
      "outputs": []
    },
    {
      "cell_type": "code",
      "source": [],
      "metadata": {
        "id": "pti1niunlNWt"
      },
      "execution_count": null,
      "outputs": []
    }
  ]
}